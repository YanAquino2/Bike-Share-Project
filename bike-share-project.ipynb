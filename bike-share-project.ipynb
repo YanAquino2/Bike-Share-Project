{
 "cells": [
  {
   "cell_type": "markdown",
   "id": "af180c1d",
   "metadata": {
    "papermill": {
     "duration": 0.005728,
     "end_time": "2022-12-15T01:41:47.717159",
     "exception": false,
     "start_time": "2022-12-15T01:41:47.711431",
     "status": "completed"
    },
    "tags": []
   },
   "source": [
    "## Google Data Analyst Certificate Capstone Project\n",
    "\n",
    "Estudo feito utilizando base de dados fictícia com dados históricos de ciclistas.\n",
    "\n",
    "Objetivo do estudo é responder as seguintes questões:\n",
    "1- Como os membros anuais e os ciclistas casuais usam as bicicletas ciclísticas de maneira diferente?\n",
    "2- Por que os ciclistas casuais comprariam associações anuais ciclísticas?\n",
    "3- Como a Cyclistic pode usar a mídia digital para influenciar ciclistas casuais a se tornarem membros?\n",
    "\n",
    "## Código\n",
    "\n",
    "Primeiro vamos importar as bibliotecas que serão utilizadas."
   ]
  },
  {
   "cell_type": "code",
   "execution_count": 1,
   "id": "f409f2be",
   "metadata": {
    "execution": {
     "iopub.execute_input": "2022-12-15T01:41:47.730250Z",
     "iopub.status.busy": "2022-12-15T01:41:47.728480Z",
     "iopub.status.idle": "2022-12-15T01:41:49.047272Z",
     "shell.execute_reply": "2022-12-15T01:41:49.045882Z"
    },
    "papermill": {
     "duration": 1.327424,
     "end_time": "2022-12-15T01:41:49.049278",
     "exception": false,
     "start_time": "2022-12-15T01:41:47.721854",
     "status": "completed"
    },
    "tags": []
   },
   "outputs": [
    {
     "name": "stderr",
     "output_type": "stream",
     "text": [
      "── \u001b[1mAttaching packages\u001b[22m ─────────────────────────────────────── tidyverse 1.3.2 ──\n",
      "\u001b[32m✔\u001b[39m \u001b[34mggplot2\u001b[39m 3.3.6      \u001b[32m✔\u001b[39m \u001b[34mpurrr  \u001b[39m 0.3.5 \n",
      "\u001b[32m✔\u001b[39m \u001b[34mtibble \u001b[39m 3.1.8      \u001b[32m✔\u001b[39m \u001b[34mdplyr  \u001b[39m 1.0.10\n",
      "\u001b[32m✔\u001b[39m \u001b[34mtidyr  \u001b[39m 1.2.1      \u001b[32m✔\u001b[39m \u001b[34mstringr\u001b[39m 1.4.1 \n",
      "\u001b[32m✔\u001b[39m \u001b[34mreadr  \u001b[39m 2.1.3      \u001b[32m✔\u001b[39m \u001b[34mforcats\u001b[39m 0.5.2 \n",
      "── \u001b[1mConflicts\u001b[22m ────────────────────────────────────────── tidyverse_conflicts() ──\n",
      "\u001b[31m✖\u001b[39m \u001b[34mdplyr\u001b[39m::\u001b[32mfilter()\u001b[39m masks \u001b[34mstats\u001b[39m::filter()\n",
      "\u001b[31m✖\u001b[39m \u001b[34mdplyr\u001b[39m::\u001b[32mlag()\u001b[39m    masks \u001b[34mstats\u001b[39m::lag()\n",
      "\n",
      "Attaching package: ‘lubridate’\n",
      "\n",
      "\n",
      "The following objects are masked from ‘package:base’:\n",
      "\n",
      "    date, intersect, setdiff, union\n",
      "\n",
      "\n"
     ]
    }
   ],
   "source": [
    "library(tidyverse)\n",
    "library(lubridate)\n",
    "library(readxl)"
   ]
  },
  {
   "cell_type": "markdown",
   "id": "32255c1c",
   "metadata": {
    "papermill": {
     "duration": 0.00481,
     "end_time": "2022-12-15T01:41:49.059019",
     "exception": false,
     "start_time": "2022-12-15T01:41:49.054209",
     "status": "completed"
    },
    "tags": []
   },
   "source": [
    "Agora incluir as tabelas que serão utilizadas."
   ]
  },
  {
   "cell_type": "code",
   "execution_count": 2,
   "id": "c256eaf2",
   "metadata": {
    "execution": {
     "iopub.execute_input": "2022-12-15T01:41:49.093436Z",
     "iopub.status.busy": "2022-12-15T01:41:49.069914Z",
     "iopub.status.idle": "2022-12-15T01:42:12.252259Z",
     "shell.execute_reply": "2022-12-15T01:42:12.251004Z"
    },
    "papermill": {
     "duration": 23.191158,
     "end_time": "2022-12-15T01:42:12.254710",
     "exception": false,
     "start_time": "2022-12-15T01:41:49.063552",
     "status": "completed"
    },
    "tags": []
   },
   "outputs": [
    {
     "name": "stderr",
     "output_type": "stream",
     "text": [
      "\u001b[1mRows: \u001b[22m\u001b[34m359978\u001b[39m \u001b[1mColumns: \u001b[22m\u001b[34m13\u001b[39m\n",
      "\u001b[36m──\u001b[39m \u001b[1mColumn specification\u001b[22m \u001b[36m────────────────────────────────────────────────────────\u001b[39m\n",
      "\u001b[1mDelimiter:\u001b[22m \",\"\n",
      "\u001b[31mchr\u001b[39m  (7): ride_id, rideable_type, start_station_name, start_station_id, end_...\n",
      "\u001b[32mdbl\u001b[39m  (4): start_lat, start_lng, end_lat, end_lng\n",
      "\u001b[34mdttm\u001b[39m (2): started_at, ended_at\n",
      "\n",
      "\u001b[36mℹ\u001b[39m Use `spec()` to retrieve the full column specification for this data.\n",
      "\u001b[36mℹ\u001b[39m Specify the column types or set `show_col_types = FALSE` to quiet this message.\n",
      "\u001b[1mRows: \u001b[22m\u001b[34m247540\u001b[39m \u001b[1mColumns: \u001b[22m\u001b[34m13\u001b[39m\n",
      "\u001b[36m──\u001b[39m \u001b[1mColumn specification\u001b[22m \u001b[36m────────────────────────────────────────────────────────\u001b[39m\n",
      "\u001b[1mDelimiter:\u001b[22m \",\"\n",
      "\u001b[31mchr\u001b[39m  (7): ride_id, rideable_type, start_station_name, start_station_id, end_...\n",
      "\u001b[32mdbl\u001b[39m  (4): start_lat, start_lng, end_lat, end_lng\n",
      "\u001b[34mdttm\u001b[39m (2): started_at, ended_at\n",
      "\n",
      "\u001b[36mℹ\u001b[39m Use `spec()` to retrieve the full column specification for this data.\n",
      "\u001b[36mℹ\u001b[39m Specify the column types or set `show_col_types = FALSE` to quiet this message.\n",
      "\u001b[1mRows: \u001b[22m\u001b[34m103770\u001b[39m \u001b[1mColumns: \u001b[22m\u001b[34m13\u001b[39m\n",
      "\u001b[36m──\u001b[39m \u001b[1mColumn specification\u001b[22m \u001b[36m────────────────────────────────────────────────────────\u001b[39m\n",
      "\u001b[1mDelimiter:\u001b[22m \",\"\n",
      "\u001b[31mchr\u001b[39m  (7): ride_id, rideable_type, start_station_name, start_station_id, end_...\n",
      "\u001b[32mdbl\u001b[39m  (4): start_lat, start_lng, end_lat, end_lng\n",
      "\u001b[34mdttm\u001b[39m (2): started_at, ended_at\n",
      "\n",
      "\u001b[36mℹ\u001b[39m Use `spec()` to retrieve the full column specification for this data.\n",
      "\u001b[36mℹ\u001b[39m Specify the column types or set `show_col_types = FALSE` to quiet this message.\n",
      "\u001b[1mRows: \u001b[22m\u001b[34m115609\u001b[39m \u001b[1mColumns: \u001b[22m\u001b[34m13\u001b[39m\n",
      "\u001b[36m──\u001b[39m \u001b[1mColumn specification\u001b[22m \u001b[36m────────────────────────────────────────────────────────\u001b[39m\n",
      "\u001b[1mDelimiter:\u001b[22m \",\"\n",
      "\u001b[31mchr\u001b[39m  (7): ride_id, rideable_type, start_station_name, start_station_id, end_...\n",
      "\u001b[32mdbl\u001b[39m  (4): start_lat, start_lng, end_lat, end_lng\n",
      "\u001b[34mdttm\u001b[39m (2): started_at, ended_at\n",
      "\n",
      "\u001b[36mℹ\u001b[39m Use `spec()` to retrieve the full column specification for this data.\n",
      "\u001b[36mℹ\u001b[39m Specify the column types or set `show_col_types = FALSE` to quiet this message.\n",
      "\u001b[1mRows: \u001b[22m\u001b[34m284042\u001b[39m \u001b[1mColumns: \u001b[22m\u001b[34m13\u001b[39m\n",
      "\u001b[36m──\u001b[39m \u001b[1mColumn specification\u001b[22m \u001b[36m────────────────────────────────────────────────────────\u001b[39m\n",
      "\u001b[1mDelimiter:\u001b[22m \",\"\n",
      "\u001b[31mchr\u001b[39m  (7): ride_id, rideable_type, start_station_name, start_station_id, end_...\n",
      "\u001b[32mdbl\u001b[39m  (4): start_lat, start_lng, end_lat, end_lng\n",
      "\u001b[34mdttm\u001b[39m (2): started_at, ended_at\n",
      "\n",
      "\u001b[36mℹ\u001b[39m Use `spec()` to retrieve the full column specification for this data.\n",
      "\u001b[36mℹ\u001b[39m Specify the column types or set `show_col_types = FALSE` to quiet this message.\n",
      "\u001b[1mRows: \u001b[22m\u001b[34m371249\u001b[39m \u001b[1mColumns: \u001b[22m\u001b[34m13\u001b[39m\n",
      "\u001b[36m──\u001b[39m \u001b[1mColumn specification\u001b[22m \u001b[36m────────────────────────────────────────────────────────\u001b[39m\n",
      "\u001b[1mDelimiter:\u001b[22m \",\"\n",
      "\u001b[31mchr\u001b[39m  (7): ride_id, rideable_type, start_station_name, start_station_id, end_...\n",
      "\u001b[32mdbl\u001b[39m  (4): start_lat, start_lng, end_lat, end_lng\n",
      "\u001b[34mdttm\u001b[39m (2): started_at, ended_at\n",
      "\n",
      "\u001b[36mℹ\u001b[39m Use `spec()` to retrieve the full column specification for this data.\n",
      "\u001b[36mℹ\u001b[39m Specify the column types or set `show_col_types = FALSE` to quiet this message.\n",
      "\u001b[1mRows: \u001b[22m\u001b[34m634858\u001b[39m \u001b[1mColumns: \u001b[22m\u001b[34m13\u001b[39m\n",
      "\u001b[36m──\u001b[39m \u001b[1mColumn specification\u001b[22m \u001b[36m────────────────────────────────────────────────────────\u001b[39m\n",
      "\u001b[1mDelimiter:\u001b[22m \",\"\n",
      "\u001b[31mchr\u001b[39m  (7): ride_id, rideable_type, start_station_name, start_station_id, end_...\n",
      "\u001b[32mdbl\u001b[39m  (4): start_lat, start_lng, end_lat, end_lng\n",
      "\u001b[34mdttm\u001b[39m (2): started_at, ended_at\n",
      "\n",
      "\u001b[36mℹ\u001b[39m Use `spec()` to retrieve the full column specification for this data.\n",
      "\u001b[36mℹ\u001b[39m Specify the column types or set `show_col_types = FALSE` to quiet this message.\n",
      "\u001b[1mRows: \u001b[22m\u001b[34m769204\u001b[39m \u001b[1mColumns: \u001b[22m\u001b[34m13\u001b[39m\n",
      "\u001b[36m──\u001b[39m \u001b[1mColumn specification\u001b[22m \u001b[36m────────────────────────────────────────────────────────\u001b[39m\n",
      "\u001b[1mDelimiter:\u001b[22m \",\"\n",
      "\u001b[31mchr\u001b[39m  (7): ride_id, rideable_type, start_station_name, start_station_id, end_...\n",
      "\u001b[32mdbl\u001b[39m  (4): start_lat, start_lng, end_lat, end_lng\n",
      "\u001b[34mdttm\u001b[39m (2): started_at, ended_at\n",
      "\n",
      "\u001b[36mℹ\u001b[39m Use `spec()` to retrieve the full column specification for this data.\n",
      "\u001b[36mℹ\u001b[39m Specify the column types or set `show_col_types = FALSE` to quiet this message.\n",
      "\u001b[1mRows: \u001b[22m\u001b[34m823488\u001b[39m \u001b[1mColumns: \u001b[22m\u001b[34m13\u001b[39m\n",
      "\u001b[36m──\u001b[39m \u001b[1mColumn specification\u001b[22m \u001b[36m────────────────────────────────────────────────────────\u001b[39m\n",
      "\u001b[1mDelimiter:\u001b[22m \",\"\n",
      "\u001b[31mchr\u001b[39m  (7): ride_id, rideable_type, start_station_name, start_station_id, end_...\n",
      "\u001b[32mdbl\u001b[39m  (4): start_lat, start_lng, end_lat, end_lng\n",
      "\u001b[34mdttm\u001b[39m (2): started_at, ended_at\n",
      "\n",
      "\u001b[36mℹ\u001b[39m Use `spec()` to retrieve the full column specification for this data.\n",
      "\u001b[36mℹ\u001b[39m Specify the column types or set `show_col_types = FALSE` to quiet this message.\n",
      "\u001b[1mRows: \u001b[22m\u001b[34m785932\u001b[39m \u001b[1mColumns: \u001b[22m\u001b[34m13\u001b[39m\n",
      "\u001b[36m──\u001b[39m \u001b[1mColumn specification\u001b[22m \u001b[36m────────────────────────────────────────────────────────\u001b[39m\n",
      "\u001b[1mDelimiter:\u001b[22m \",\"\n",
      "\u001b[31mchr\u001b[39m  (7): ride_id, rideable_type, start_station_name, start_station_id, end_...\n",
      "\u001b[32mdbl\u001b[39m  (4): start_lat, start_lng, end_lat, end_lng\n",
      "\u001b[34mdttm\u001b[39m (2): started_at, ended_at\n",
      "\n",
      "\u001b[36mℹ\u001b[39m Use `spec()` to retrieve the full column specification for this data.\n",
      "\u001b[36mℹ\u001b[39m Specify the column types or set `show_col_types = FALSE` to quiet this message.\n",
      "\u001b[1mRows: \u001b[22m\u001b[34m701339\u001b[39m \u001b[1mColumns: \u001b[22m\u001b[34m13\u001b[39m\n",
      "\u001b[36m──\u001b[39m \u001b[1mColumn specification\u001b[22m \u001b[36m────────────────────────────────────────────────────────\u001b[39m\n",
      "\u001b[1mDelimiter:\u001b[22m \",\"\n",
      "\u001b[31mchr\u001b[39m  (7): ride_id, rideable_type, start_station_name, start_station_id, end_...\n",
      "\u001b[32mdbl\u001b[39m  (4): start_lat, start_lng, end_lat, end_lng\n",
      "\u001b[34mdttm\u001b[39m (2): started_at, ended_at\n",
      "\n",
      "\u001b[36mℹ\u001b[39m Use `spec()` to retrieve the full column specification for this data.\n",
      "\u001b[36mℹ\u001b[39m Specify the column types or set `show_col_types = FALSE` to quiet this message.\n",
      "\u001b[1mRows: \u001b[22m\u001b[34m558685\u001b[39m \u001b[1mColumns: \u001b[22m\u001b[34m13\u001b[39m\n",
      "\u001b[36m──\u001b[39m \u001b[1mColumn specification\u001b[22m \u001b[36m────────────────────────────────────────────────────────\u001b[39m\n",
      "\u001b[1mDelimiter:\u001b[22m \",\"\n",
      "\u001b[31mchr\u001b[39m  (7): ride_id, rideable_type, start_station_name, start_station_id, end_...\n",
      "\u001b[32mdbl\u001b[39m  (4): start_lat, start_lng, end_lat, end_lng\n",
      "\u001b[34mdttm\u001b[39m (2): started_at, ended_at\n",
      "\n",
      "\u001b[36mℹ\u001b[39m Use `spec()` to retrieve the full column specification for this data.\n",
      "\u001b[36mℹ\u001b[39m Specify the column types or set `show_col_types = FALSE` to quiet this message.\n"
     ]
    }
   ],
   "source": [
    "Nov_21 <- read_csv(\"/kaggle/input/bikesharedata/202111-divvy-tripdata.csv\")\n",
    "Dez_21 <- read_csv(\"/kaggle/input/bikesharedata/202112-divvy-tripdata.csv\")\n",
    "Jan_22 <- read_csv(\"/kaggle/input/bikesharedata/202201-divvy-tripdata.csv\")\n",
    "Fev_22 <- read_csv(\"/kaggle/input/bikesharedata/202202-divvy-tripdata.csv\")\n",
    "Mar_22 <- read_csv(\"/kaggle/input/bikesharedata/202203-divvy-tripdata.csv\")\n",
    "Abr_22 <- read_csv(\"/kaggle/input/bikesharedata/202204-divvy-tripdata.csv\")\n",
    "Mai_22 <- read_csv(\"/kaggle/input/bikesharedata/202205-divvy-tripdata.csv\")\n",
    "Jun_22 <- read_csv(\"/kaggle/input/bikesharedata/202206-divvy-tripdata.csv\")\n",
    "Jul_22 <- read_csv(\"/kaggle/input/bikesharedata/202207-divvy-tripdata.csv\")\n",
    "Ago_22 <- read_csv(\"/kaggle/input/bikesharedata/202208-divvy-tripdata.csv\")\n",
    "Set_22 <- read_csv(\"/kaggle/input/bikesharedata/202209-divvy-publictripdata.csv\")\n",
    "Out_22 <- read_csv(\"/kaggle/input/bikesharedata/202210-divvy-tripdata.csv\")"
   ]
  },
  {
   "cell_type": "markdown",
   "id": "63c52b39",
   "metadata": {
    "papermill": {
     "duration": 0.006566,
     "end_time": "2022-12-15T01:42:12.268502",
     "exception": false,
     "start_time": "2022-12-15T01:42:12.261936",
     "status": "completed"
    },
    "tags": []
   },
   "source": [
    "Conferindo se os nomes das colunas estão iguais para poder juntar em uma só tabela"
   ]
  },
  {
   "cell_type": "code",
   "execution_count": 3,
   "id": "ca505643",
   "metadata": {
    "execution": {
     "iopub.execute_input": "2022-12-15T01:42:12.285262Z",
     "iopub.status.busy": "2022-12-15T01:42:12.283707Z",
     "iopub.status.idle": "2022-12-15T01:42:24.410247Z",
     "shell.execute_reply": "2022-12-15T01:42:24.408227Z"
    },
    "papermill": {
     "duration": 12.137352,
     "end_time": "2022-12-15T01:42:24.412496",
     "exception": false,
     "start_time": "2022-12-15T01:42:12.275144",
     "status": "completed"
    },
    "tags": []
   },
   "outputs": [
    {
     "data": {
      "text/html": [
       "<style>\n",
       ".list-inline {list-style: none; margin:0; padding: 0}\n",
       ".list-inline>li {display: inline-block}\n",
       ".list-inline>li:not(:last-child)::after {content: \"\\00b7\"; padding: 0 .5ex}\n",
       "</style>\n",
       "<ol class=list-inline><li>'ride_id'</li><li>'rideable_type'</li><li>'started_at'</li><li>'ended_at'</li><li>'start_station_name'</li><li>'start_station_id'</li><li>'end_station_name'</li><li>'end_station_id'</li><li>'start_lat'</li><li>'start_lng'</li><li>'end_lat'</li><li>'end_lng'</li><li>'member_casual'</li></ol>\n"
      ],
      "text/latex": [
       "\\begin{enumerate*}\n",
       "\\item 'ride\\_id'\n",
       "\\item 'rideable\\_type'\n",
       "\\item 'started\\_at'\n",
       "\\item 'ended\\_at'\n",
       "\\item 'start\\_station\\_name'\n",
       "\\item 'start\\_station\\_id'\n",
       "\\item 'end\\_station\\_name'\n",
       "\\item 'end\\_station\\_id'\n",
       "\\item 'start\\_lat'\n",
       "\\item 'start\\_lng'\n",
       "\\item 'end\\_lat'\n",
       "\\item 'end\\_lng'\n",
       "\\item 'member\\_casual'\n",
       "\\end{enumerate*}\n"
      ],
      "text/markdown": [
       "1. 'ride_id'\n",
       "2. 'rideable_type'\n",
       "3. 'started_at'\n",
       "4. 'ended_at'\n",
       "5. 'start_station_name'\n",
       "6. 'start_station_id'\n",
       "7. 'end_station_name'\n",
       "8. 'end_station_id'\n",
       "9. 'start_lat'\n",
       "10. 'start_lng'\n",
       "11. 'end_lat'\n",
       "12. 'end_lng'\n",
       "13. 'member_casual'\n",
       "\n",
       "\n"
      ],
      "text/plain": [
       " [1] \"ride_id\"            \"rideable_type\"      \"started_at\"        \n",
       " [4] \"ended_at\"           \"start_station_name\" \"start_station_id\"  \n",
       " [7] \"end_station_name\"   \"end_station_id\"     \"start_lat\"         \n",
       "[10] \"start_lng\"          \"end_lat\"            \"end_lng\"           \n",
       "[13] \"member_casual\"     "
      ]
     },
     "metadata": {},
     "output_type": "display_data"
    },
    {
     "data": {
      "text/html": [
       "<style>\n",
       ".list-inline {list-style: none; margin:0; padding: 0}\n",
       ".list-inline>li {display: inline-block}\n",
       ".list-inline>li:not(:last-child)::after {content: \"\\00b7\"; padding: 0 .5ex}\n",
       "</style>\n",
       "<ol class=list-inline><li>'ride_id'</li><li>'rideable_type'</li><li>'started_at'</li><li>'ended_at'</li><li>'start_station_name'</li><li>'start_station_id'</li><li>'end_station_name'</li><li>'end_station_id'</li><li>'start_lat'</li><li>'start_lng'</li><li>'end_lat'</li><li>'end_lng'</li><li>'member_casual'</li></ol>\n"
      ],
      "text/latex": [
       "\\begin{enumerate*}\n",
       "\\item 'ride\\_id'\n",
       "\\item 'rideable\\_type'\n",
       "\\item 'started\\_at'\n",
       "\\item 'ended\\_at'\n",
       "\\item 'start\\_station\\_name'\n",
       "\\item 'start\\_station\\_id'\n",
       "\\item 'end\\_station\\_name'\n",
       "\\item 'end\\_station\\_id'\n",
       "\\item 'start\\_lat'\n",
       "\\item 'start\\_lng'\n",
       "\\item 'end\\_lat'\n",
       "\\item 'end\\_lng'\n",
       "\\item 'member\\_casual'\n",
       "\\end{enumerate*}\n"
      ],
      "text/markdown": [
       "1. 'ride_id'\n",
       "2. 'rideable_type'\n",
       "3. 'started_at'\n",
       "4. 'ended_at'\n",
       "5. 'start_station_name'\n",
       "6. 'start_station_id'\n",
       "7. 'end_station_name'\n",
       "8. 'end_station_id'\n",
       "9. 'start_lat'\n",
       "10. 'start_lng'\n",
       "11. 'end_lat'\n",
       "12. 'end_lng'\n",
       "13. 'member_casual'\n",
       "\n",
       "\n"
      ],
      "text/plain": [
       " [1] \"ride_id\"            \"rideable_type\"      \"started_at\"        \n",
       " [4] \"ended_at\"           \"start_station_name\" \"start_station_id\"  \n",
       " [7] \"end_station_name\"   \"end_station_id\"     \"start_lat\"         \n",
       "[10] \"start_lng\"          \"end_lat\"            \"end_lng\"           \n",
       "[13] \"member_casual\"     "
      ]
     },
     "metadata": {},
     "output_type": "display_data"
    },
    {
     "data": {
      "text/html": [
       "<style>\n",
       ".list-inline {list-style: none; margin:0; padding: 0}\n",
       ".list-inline>li {display: inline-block}\n",
       ".list-inline>li:not(:last-child)::after {content: \"\\00b7\"; padding: 0 .5ex}\n",
       "</style>\n",
       "<ol class=list-inline><li>'ride_id'</li><li>'rideable_type'</li><li>'started_at'</li><li>'ended_at'</li><li>'start_station_name'</li><li>'start_station_id'</li><li>'end_station_name'</li><li>'end_station_id'</li><li>'start_lat'</li><li>'start_lng'</li><li>'end_lat'</li><li>'end_lng'</li><li>'member_casual'</li></ol>\n"
      ],
      "text/latex": [
       "\\begin{enumerate*}\n",
       "\\item 'ride\\_id'\n",
       "\\item 'rideable\\_type'\n",
       "\\item 'started\\_at'\n",
       "\\item 'ended\\_at'\n",
       "\\item 'start\\_station\\_name'\n",
       "\\item 'start\\_station\\_id'\n",
       "\\item 'end\\_station\\_name'\n",
       "\\item 'end\\_station\\_id'\n",
       "\\item 'start\\_lat'\n",
       "\\item 'start\\_lng'\n",
       "\\item 'end\\_lat'\n",
       "\\item 'end\\_lng'\n",
       "\\item 'member\\_casual'\n",
       "\\end{enumerate*}\n"
      ],
      "text/markdown": [
       "1. 'ride_id'\n",
       "2. 'rideable_type'\n",
       "3. 'started_at'\n",
       "4. 'ended_at'\n",
       "5. 'start_station_name'\n",
       "6. 'start_station_id'\n",
       "7. 'end_station_name'\n",
       "8. 'end_station_id'\n",
       "9. 'start_lat'\n",
       "10. 'start_lng'\n",
       "11. 'end_lat'\n",
       "12. 'end_lng'\n",
       "13. 'member_casual'\n",
       "\n",
       "\n"
      ],
      "text/plain": [
       " [1] \"ride_id\"            \"rideable_type\"      \"started_at\"        \n",
       " [4] \"ended_at\"           \"start_station_name\" \"start_station_id\"  \n",
       " [7] \"end_station_name\"   \"end_station_id\"     \"start_lat\"         \n",
       "[10] \"start_lng\"          \"end_lat\"            \"end_lng\"           \n",
       "[13] \"member_casual\"     "
      ]
     },
     "metadata": {},
     "output_type": "display_data"
    },
    {
     "data": {
      "text/html": [
       "<style>\n",
       ".list-inline {list-style: none; margin:0; padding: 0}\n",
       ".list-inline>li {display: inline-block}\n",
       ".list-inline>li:not(:last-child)::after {content: \"\\00b7\"; padding: 0 .5ex}\n",
       "</style>\n",
       "<ol class=list-inline><li>'ride_id'</li><li>'rideable_type'</li><li>'started_at'</li><li>'ended_at'</li><li>'start_station_name'</li><li>'start_station_id'</li><li>'end_station_name'</li><li>'end_station_id'</li><li>'start_lat'</li><li>'start_lng'</li><li>'end_lat'</li><li>'end_lng'</li><li>'member_casual'</li></ol>\n"
      ],
      "text/latex": [
       "\\begin{enumerate*}\n",
       "\\item 'ride\\_id'\n",
       "\\item 'rideable\\_type'\n",
       "\\item 'started\\_at'\n",
       "\\item 'ended\\_at'\n",
       "\\item 'start\\_station\\_name'\n",
       "\\item 'start\\_station\\_id'\n",
       "\\item 'end\\_station\\_name'\n",
       "\\item 'end\\_station\\_id'\n",
       "\\item 'start\\_lat'\n",
       "\\item 'start\\_lng'\n",
       "\\item 'end\\_lat'\n",
       "\\item 'end\\_lng'\n",
       "\\item 'member\\_casual'\n",
       "\\end{enumerate*}\n"
      ],
      "text/markdown": [
       "1. 'ride_id'\n",
       "2. 'rideable_type'\n",
       "3. 'started_at'\n",
       "4. 'ended_at'\n",
       "5. 'start_station_name'\n",
       "6. 'start_station_id'\n",
       "7. 'end_station_name'\n",
       "8. 'end_station_id'\n",
       "9. 'start_lat'\n",
       "10. 'start_lng'\n",
       "11. 'end_lat'\n",
       "12. 'end_lng'\n",
       "13. 'member_casual'\n",
       "\n",
       "\n"
      ],
      "text/plain": [
       " [1] \"ride_id\"            \"rideable_type\"      \"started_at\"        \n",
       " [4] \"ended_at\"           \"start_station_name\" \"start_station_id\"  \n",
       " [7] \"end_station_name\"   \"end_station_id\"     \"start_lat\"         \n",
       "[10] \"start_lng\"          \"end_lat\"            \"end_lng\"           \n",
       "[13] \"member_casual\"     "
      ]
     },
     "metadata": {},
     "output_type": "display_data"
    },
    {
     "data": {
      "text/html": [
       "<style>\n",
       ".list-inline {list-style: none; margin:0; padding: 0}\n",
       ".list-inline>li {display: inline-block}\n",
       ".list-inline>li:not(:last-child)::after {content: \"\\00b7\"; padding: 0 .5ex}\n",
       "</style>\n",
       "<ol class=list-inline><li>'ride_id'</li><li>'rideable_type'</li><li>'started_at'</li><li>'ended_at'</li><li>'start_station_name'</li><li>'start_station_id'</li><li>'end_station_name'</li><li>'end_station_id'</li><li>'start_lat'</li><li>'start_lng'</li><li>'end_lat'</li><li>'end_lng'</li><li>'member_casual'</li></ol>\n"
      ],
      "text/latex": [
       "\\begin{enumerate*}\n",
       "\\item 'ride\\_id'\n",
       "\\item 'rideable\\_type'\n",
       "\\item 'started\\_at'\n",
       "\\item 'ended\\_at'\n",
       "\\item 'start\\_station\\_name'\n",
       "\\item 'start\\_station\\_id'\n",
       "\\item 'end\\_station\\_name'\n",
       "\\item 'end\\_station\\_id'\n",
       "\\item 'start\\_lat'\n",
       "\\item 'start\\_lng'\n",
       "\\item 'end\\_lat'\n",
       "\\item 'end\\_lng'\n",
       "\\item 'member\\_casual'\n",
       "\\end{enumerate*}\n"
      ],
      "text/markdown": [
       "1. 'ride_id'\n",
       "2. 'rideable_type'\n",
       "3. 'started_at'\n",
       "4. 'ended_at'\n",
       "5. 'start_station_name'\n",
       "6. 'start_station_id'\n",
       "7. 'end_station_name'\n",
       "8. 'end_station_id'\n",
       "9. 'start_lat'\n",
       "10. 'start_lng'\n",
       "11. 'end_lat'\n",
       "12. 'end_lng'\n",
       "13. 'member_casual'\n",
       "\n",
       "\n"
      ],
      "text/plain": [
       " [1] \"ride_id\"            \"rideable_type\"      \"started_at\"        \n",
       " [4] \"ended_at\"           \"start_station_name\" \"start_station_id\"  \n",
       " [7] \"end_station_name\"   \"end_station_id\"     \"start_lat\"         \n",
       "[10] \"start_lng\"          \"end_lat\"            \"end_lng\"           \n",
       "[13] \"member_casual\"     "
      ]
     },
     "metadata": {},
     "output_type": "display_data"
    },
    {
     "data": {
      "text/html": [
       "<style>\n",
       ".list-inline {list-style: none; margin:0; padding: 0}\n",
       ".list-inline>li {display: inline-block}\n",
       ".list-inline>li:not(:last-child)::after {content: \"\\00b7\"; padding: 0 .5ex}\n",
       "</style>\n",
       "<ol class=list-inline><li>'ride_id'</li><li>'rideable_type'</li><li>'started_at'</li><li>'ended_at'</li><li>'start_station_name'</li><li>'start_station_id'</li><li>'end_station_name'</li><li>'end_station_id'</li><li>'start_lat'</li><li>'start_lng'</li><li>'end_lat'</li><li>'end_lng'</li><li>'member_casual'</li></ol>\n"
      ],
      "text/latex": [
       "\\begin{enumerate*}\n",
       "\\item 'ride\\_id'\n",
       "\\item 'rideable\\_type'\n",
       "\\item 'started\\_at'\n",
       "\\item 'ended\\_at'\n",
       "\\item 'start\\_station\\_name'\n",
       "\\item 'start\\_station\\_id'\n",
       "\\item 'end\\_station\\_name'\n",
       "\\item 'end\\_station\\_id'\n",
       "\\item 'start\\_lat'\n",
       "\\item 'start\\_lng'\n",
       "\\item 'end\\_lat'\n",
       "\\item 'end\\_lng'\n",
       "\\item 'member\\_casual'\n",
       "\\end{enumerate*}\n"
      ],
      "text/markdown": [
       "1. 'ride_id'\n",
       "2. 'rideable_type'\n",
       "3. 'started_at'\n",
       "4. 'ended_at'\n",
       "5. 'start_station_name'\n",
       "6. 'start_station_id'\n",
       "7. 'end_station_name'\n",
       "8. 'end_station_id'\n",
       "9. 'start_lat'\n",
       "10. 'start_lng'\n",
       "11. 'end_lat'\n",
       "12. 'end_lng'\n",
       "13. 'member_casual'\n",
       "\n",
       "\n"
      ],
      "text/plain": [
       " [1] \"ride_id\"            \"rideable_type\"      \"started_at\"        \n",
       " [4] \"ended_at\"           \"start_station_name\" \"start_station_id\"  \n",
       " [7] \"end_station_name\"   \"end_station_id\"     \"start_lat\"         \n",
       "[10] \"start_lng\"          \"end_lat\"            \"end_lng\"           \n",
       "[13] \"member_casual\"     "
      ]
     },
     "metadata": {},
     "output_type": "display_data"
    },
    {
     "data": {
      "text/html": [
       "<style>\n",
       ".list-inline {list-style: none; margin:0; padding: 0}\n",
       ".list-inline>li {display: inline-block}\n",
       ".list-inline>li:not(:last-child)::after {content: \"\\00b7\"; padding: 0 .5ex}\n",
       "</style>\n",
       "<ol class=list-inline><li>'ride_id'</li><li>'rideable_type'</li><li>'started_at'</li><li>'ended_at'</li><li>'start_station_name'</li><li>'start_station_id'</li><li>'end_station_name'</li><li>'end_station_id'</li><li>'start_lat'</li><li>'start_lng'</li><li>'end_lat'</li><li>'end_lng'</li><li>'member_casual'</li></ol>\n"
      ],
      "text/latex": [
       "\\begin{enumerate*}\n",
       "\\item 'ride\\_id'\n",
       "\\item 'rideable\\_type'\n",
       "\\item 'started\\_at'\n",
       "\\item 'ended\\_at'\n",
       "\\item 'start\\_station\\_name'\n",
       "\\item 'start\\_station\\_id'\n",
       "\\item 'end\\_station\\_name'\n",
       "\\item 'end\\_station\\_id'\n",
       "\\item 'start\\_lat'\n",
       "\\item 'start\\_lng'\n",
       "\\item 'end\\_lat'\n",
       "\\item 'end\\_lng'\n",
       "\\item 'member\\_casual'\n",
       "\\end{enumerate*}\n"
      ],
      "text/markdown": [
       "1. 'ride_id'\n",
       "2. 'rideable_type'\n",
       "3. 'started_at'\n",
       "4. 'ended_at'\n",
       "5. 'start_station_name'\n",
       "6. 'start_station_id'\n",
       "7. 'end_station_name'\n",
       "8. 'end_station_id'\n",
       "9. 'start_lat'\n",
       "10. 'start_lng'\n",
       "11. 'end_lat'\n",
       "12. 'end_lng'\n",
       "13. 'member_casual'\n",
       "\n",
       "\n"
      ],
      "text/plain": [
       " [1] \"ride_id\"            \"rideable_type\"      \"started_at\"        \n",
       " [4] \"ended_at\"           \"start_station_name\" \"start_station_id\"  \n",
       " [7] \"end_station_name\"   \"end_station_id\"     \"start_lat\"         \n",
       "[10] \"start_lng\"          \"end_lat\"            \"end_lng\"           \n",
       "[13] \"member_casual\"     "
      ]
     },
     "metadata": {},
     "output_type": "display_data"
    },
    {
     "data": {
      "text/html": [
       "<style>\n",
       ".list-inline {list-style: none; margin:0; padding: 0}\n",
       ".list-inline>li {display: inline-block}\n",
       ".list-inline>li:not(:last-child)::after {content: \"\\00b7\"; padding: 0 .5ex}\n",
       "</style>\n",
       "<ol class=list-inline><li>'ride_id'</li><li>'rideable_type'</li><li>'started_at'</li><li>'ended_at'</li><li>'start_station_name'</li><li>'start_station_id'</li><li>'end_station_name'</li><li>'end_station_id'</li><li>'start_lat'</li><li>'start_lng'</li><li>'end_lat'</li><li>'end_lng'</li><li>'member_casual'</li></ol>\n"
      ],
      "text/latex": [
       "\\begin{enumerate*}\n",
       "\\item 'ride\\_id'\n",
       "\\item 'rideable\\_type'\n",
       "\\item 'started\\_at'\n",
       "\\item 'ended\\_at'\n",
       "\\item 'start\\_station\\_name'\n",
       "\\item 'start\\_station\\_id'\n",
       "\\item 'end\\_station\\_name'\n",
       "\\item 'end\\_station\\_id'\n",
       "\\item 'start\\_lat'\n",
       "\\item 'start\\_lng'\n",
       "\\item 'end\\_lat'\n",
       "\\item 'end\\_lng'\n",
       "\\item 'member\\_casual'\n",
       "\\end{enumerate*}\n"
      ],
      "text/markdown": [
       "1. 'ride_id'\n",
       "2. 'rideable_type'\n",
       "3. 'started_at'\n",
       "4. 'ended_at'\n",
       "5. 'start_station_name'\n",
       "6. 'start_station_id'\n",
       "7. 'end_station_name'\n",
       "8. 'end_station_id'\n",
       "9. 'start_lat'\n",
       "10. 'start_lng'\n",
       "11. 'end_lat'\n",
       "12. 'end_lng'\n",
       "13. 'member_casual'\n",
       "\n",
       "\n"
      ],
      "text/plain": [
       " [1] \"ride_id\"            \"rideable_type\"      \"started_at\"        \n",
       " [4] \"ended_at\"           \"start_station_name\" \"start_station_id\"  \n",
       " [7] \"end_station_name\"   \"end_station_id\"     \"start_lat\"         \n",
       "[10] \"start_lng\"          \"end_lat\"            \"end_lng\"           \n",
       "[13] \"member_casual\"     "
      ]
     },
     "metadata": {},
     "output_type": "display_data"
    },
    {
     "data": {
      "text/html": [
       "<style>\n",
       ".list-inline {list-style: none; margin:0; padding: 0}\n",
       ".list-inline>li {display: inline-block}\n",
       ".list-inline>li:not(:last-child)::after {content: \"\\00b7\"; padding: 0 .5ex}\n",
       "</style>\n",
       "<ol class=list-inline><li>'ride_id'</li><li>'rideable_type'</li><li>'started_at'</li><li>'ended_at'</li><li>'start_station_name'</li><li>'start_station_id'</li><li>'end_station_name'</li><li>'end_station_id'</li><li>'start_lat'</li><li>'start_lng'</li><li>'end_lat'</li><li>'end_lng'</li><li>'member_casual'</li></ol>\n"
      ],
      "text/latex": [
       "\\begin{enumerate*}\n",
       "\\item 'ride\\_id'\n",
       "\\item 'rideable\\_type'\n",
       "\\item 'started\\_at'\n",
       "\\item 'ended\\_at'\n",
       "\\item 'start\\_station\\_name'\n",
       "\\item 'start\\_station\\_id'\n",
       "\\item 'end\\_station\\_name'\n",
       "\\item 'end\\_station\\_id'\n",
       "\\item 'start\\_lat'\n",
       "\\item 'start\\_lng'\n",
       "\\item 'end\\_lat'\n",
       "\\item 'end\\_lng'\n",
       "\\item 'member\\_casual'\n",
       "\\end{enumerate*}\n"
      ],
      "text/markdown": [
       "1. 'ride_id'\n",
       "2. 'rideable_type'\n",
       "3. 'started_at'\n",
       "4. 'ended_at'\n",
       "5. 'start_station_name'\n",
       "6. 'start_station_id'\n",
       "7. 'end_station_name'\n",
       "8. 'end_station_id'\n",
       "9. 'start_lat'\n",
       "10. 'start_lng'\n",
       "11. 'end_lat'\n",
       "12. 'end_lng'\n",
       "13. 'member_casual'\n",
       "\n",
       "\n"
      ],
      "text/plain": [
       " [1] \"ride_id\"            \"rideable_type\"      \"started_at\"        \n",
       " [4] \"ended_at\"           \"start_station_name\" \"start_station_id\"  \n",
       " [7] \"end_station_name\"   \"end_station_id\"     \"start_lat\"         \n",
       "[10] \"start_lng\"          \"end_lat\"            \"end_lng\"           \n",
       "[13] \"member_casual\"     "
      ]
     },
     "metadata": {},
     "output_type": "display_data"
    },
    {
     "data": {
      "text/html": [
       "<style>\n",
       ".list-inline {list-style: none; margin:0; padding: 0}\n",
       ".list-inline>li {display: inline-block}\n",
       ".list-inline>li:not(:last-child)::after {content: \"\\00b7\"; padding: 0 .5ex}\n",
       "</style>\n",
       "<ol class=list-inline><li>'ride_id'</li><li>'rideable_type'</li><li>'started_at'</li><li>'ended_at'</li><li>'start_station_name'</li><li>'start_station_id'</li><li>'end_station_name'</li><li>'end_station_id'</li><li>'start_lat'</li><li>'start_lng'</li><li>'end_lat'</li><li>'end_lng'</li><li>'member_casual'</li></ol>\n"
      ],
      "text/latex": [
       "\\begin{enumerate*}\n",
       "\\item 'ride\\_id'\n",
       "\\item 'rideable\\_type'\n",
       "\\item 'started\\_at'\n",
       "\\item 'ended\\_at'\n",
       "\\item 'start\\_station\\_name'\n",
       "\\item 'start\\_station\\_id'\n",
       "\\item 'end\\_station\\_name'\n",
       "\\item 'end\\_station\\_id'\n",
       "\\item 'start\\_lat'\n",
       "\\item 'start\\_lng'\n",
       "\\item 'end\\_lat'\n",
       "\\item 'end\\_lng'\n",
       "\\item 'member\\_casual'\n",
       "\\end{enumerate*}\n"
      ],
      "text/markdown": [
       "1. 'ride_id'\n",
       "2. 'rideable_type'\n",
       "3. 'started_at'\n",
       "4. 'ended_at'\n",
       "5. 'start_station_name'\n",
       "6. 'start_station_id'\n",
       "7. 'end_station_name'\n",
       "8. 'end_station_id'\n",
       "9. 'start_lat'\n",
       "10. 'start_lng'\n",
       "11. 'end_lat'\n",
       "12. 'end_lng'\n",
       "13. 'member_casual'\n",
       "\n",
       "\n"
      ],
      "text/plain": [
       " [1] \"ride_id\"            \"rideable_type\"      \"started_at\"        \n",
       " [4] \"ended_at\"           \"start_station_name\" \"start_station_id\"  \n",
       " [7] \"end_station_name\"   \"end_station_id\"     \"start_lat\"         \n",
       "[10] \"start_lng\"          \"end_lat\"            \"end_lng\"           \n",
       "[13] \"member_casual\"     "
      ]
     },
     "metadata": {},
     "output_type": "display_data"
    },
    {
     "data": {
      "text/html": [
       "<style>\n",
       ".list-inline {list-style: none; margin:0; padding: 0}\n",
       ".list-inline>li {display: inline-block}\n",
       ".list-inline>li:not(:last-child)::after {content: \"\\00b7\"; padding: 0 .5ex}\n",
       "</style>\n",
       "<ol class=list-inline><li>'ride_id'</li><li>'rideable_type'</li><li>'started_at'</li><li>'ended_at'</li><li>'start_station_name'</li><li>'start_station_id'</li><li>'end_station_name'</li><li>'end_station_id'</li><li>'start_lat'</li><li>'start_lng'</li><li>'end_lat'</li><li>'end_lng'</li><li>'member_casual'</li></ol>\n"
      ],
      "text/latex": [
       "\\begin{enumerate*}\n",
       "\\item 'ride\\_id'\n",
       "\\item 'rideable\\_type'\n",
       "\\item 'started\\_at'\n",
       "\\item 'ended\\_at'\n",
       "\\item 'start\\_station\\_name'\n",
       "\\item 'start\\_station\\_id'\n",
       "\\item 'end\\_station\\_name'\n",
       "\\item 'end\\_station\\_id'\n",
       "\\item 'start\\_lat'\n",
       "\\item 'start\\_lng'\n",
       "\\item 'end\\_lat'\n",
       "\\item 'end\\_lng'\n",
       "\\item 'member\\_casual'\n",
       "\\end{enumerate*}\n"
      ],
      "text/markdown": [
       "1. 'ride_id'\n",
       "2. 'rideable_type'\n",
       "3. 'started_at'\n",
       "4. 'ended_at'\n",
       "5. 'start_station_name'\n",
       "6. 'start_station_id'\n",
       "7. 'end_station_name'\n",
       "8. 'end_station_id'\n",
       "9. 'start_lat'\n",
       "10. 'start_lng'\n",
       "11. 'end_lat'\n",
       "12. 'end_lng'\n",
       "13. 'member_casual'\n",
       "\n",
       "\n"
      ],
      "text/plain": [
       " [1] \"ride_id\"            \"rideable_type\"      \"started_at\"        \n",
       " [4] \"ended_at\"           \"start_station_name\" \"start_station_id\"  \n",
       " [7] \"end_station_name\"   \"end_station_id\"     \"start_lat\"         \n",
       "[10] \"start_lng\"          \"end_lat\"            \"end_lng\"           \n",
       "[13] \"member_casual\"     "
      ]
     },
     "metadata": {},
     "output_type": "display_data"
    },
    {
     "data": {
      "text/html": [
       "<style>\n",
       ".list-inline {list-style: none; margin:0; padding: 0}\n",
       ".list-inline>li {display: inline-block}\n",
       ".list-inline>li:not(:last-child)::after {content: \"\\00b7\"; padding: 0 .5ex}\n",
       "</style>\n",
       "<ol class=list-inline><li>'ride_id'</li><li>'rideable_type'</li><li>'started_at'</li><li>'ended_at'</li><li>'start_station_name'</li><li>'start_station_id'</li><li>'end_station_name'</li><li>'end_station_id'</li><li>'start_lat'</li><li>'start_lng'</li><li>'end_lat'</li><li>'end_lng'</li><li>'member_casual'</li></ol>\n"
      ],
      "text/latex": [
       "\\begin{enumerate*}\n",
       "\\item 'ride\\_id'\n",
       "\\item 'rideable\\_type'\n",
       "\\item 'started\\_at'\n",
       "\\item 'ended\\_at'\n",
       "\\item 'start\\_station\\_name'\n",
       "\\item 'start\\_station\\_id'\n",
       "\\item 'end\\_station\\_name'\n",
       "\\item 'end\\_station\\_id'\n",
       "\\item 'start\\_lat'\n",
       "\\item 'start\\_lng'\n",
       "\\item 'end\\_lat'\n",
       "\\item 'end\\_lng'\n",
       "\\item 'member\\_casual'\n",
       "\\end{enumerate*}\n"
      ],
      "text/markdown": [
       "1. 'ride_id'\n",
       "2. 'rideable_type'\n",
       "3. 'started_at'\n",
       "4. 'ended_at'\n",
       "5. 'start_station_name'\n",
       "6. 'start_station_id'\n",
       "7. 'end_station_name'\n",
       "8. 'end_station_id'\n",
       "9. 'start_lat'\n",
       "10. 'start_lng'\n",
       "11. 'end_lat'\n",
       "12. 'end_lng'\n",
       "13. 'member_casual'\n",
       "\n",
       "\n"
      ],
      "text/plain": [
       " [1] \"ride_id\"            \"rideable_type\"      \"started_at\"        \n",
       " [4] \"ended_at\"           \"start_station_name\" \"start_station_id\"  \n",
       " [7] \"end_station_name\"   \"end_station_id\"     \"start_lat\"         \n",
       "[10] \"start_lng\"          \"end_lat\"            \"end_lng\"           \n",
       "[13] \"member_casual\"     "
      ]
     },
     "metadata": {},
     "output_type": "display_data"
    },
    {
     "data": {
      "text/html": [
       "<table class=\"dataframe\">\n",
       "<caption>A tibble: 6 × 13</caption>\n",
       "<thead>\n",
       "\t<tr><th scope=col>ride_id</th><th scope=col>rideable_type</th><th scope=col>started_at</th><th scope=col>ended_at</th><th scope=col>start_station_name</th><th scope=col>start_station_id</th><th scope=col>end_station_name</th><th scope=col>end_station_id</th><th scope=col>start_lat</th><th scope=col>start_lng</th><th scope=col>end_lat</th><th scope=col>end_lng</th><th scope=col>member_casual</th></tr>\n",
       "\t<tr><th scope=col>&lt;chr&gt;</th><th scope=col>&lt;chr&gt;</th><th scope=col>&lt;dttm&gt;</th><th scope=col>&lt;dttm&gt;</th><th scope=col>&lt;chr&gt;</th><th scope=col>&lt;chr&gt;</th><th scope=col>&lt;chr&gt;</th><th scope=col>&lt;chr&gt;</th><th scope=col>&lt;dbl&gt;</th><th scope=col>&lt;dbl&gt;</th><th scope=col>&lt;dbl&gt;</th><th scope=col>&lt;dbl&gt;</th><th scope=col>&lt;chr&gt;</th></tr>\n",
       "</thead>\n",
       "<tbody>\n",
       "\t<tr><td>7C00A93E10556E47</td><td>electric_bike</td><td>2021-11-27 13:27:38</td><td>2021-11-27 13:46:38</td><td>NA                   </td><td>NA   </td><td>NA</td><td>NA</td><td>41.93000</td><td>-87.72000</td><td>41.96</td><td>-87.73</td><td>casual</td></tr>\n",
       "\t<tr><td>90854840DFD508BA</td><td>electric_bike</td><td>2021-11-27 13:38:25</td><td>2021-11-27 13:56:10</td><td>NA                   </td><td>NA   </td><td>NA</td><td>NA</td><td>41.96000</td><td>-87.70000</td><td>41.92</td><td>-87.70</td><td>casual</td></tr>\n",
       "\t<tr><td>0A7D10CDD144061C</td><td>electric_bike</td><td>2021-11-26 22:03:34</td><td>2021-11-26 22:05:56</td><td>NA                   </td><td>NA   </td><td>NA</td><td>NA</td><td>41.96000</td><td>-87.70000</td><td>41.96</td><td>-87.70</td><td>casual</td></tr>\n",
       "\t<tr><td>2F3BE33085BCFF02</td><td>electric_bike</td><td>2021-11-27 09:56:49</td><td>2021-11-27 10:01:50</td><td>NA                   </td><td>NA   </td><td>NA</td><td>NA</td><td>41.94000</td><td>-87.79000</td><td>41.93</td><td>-87.79</td><td>casual</td></tr>\n",
       "\t<tr><td>D67B4781A19928D4</td><td>electric_bike</td><td>2021-11-26 19:09:28</td><td>2021-11-26 19:30:41</td><td>NA                   </td><td>NA   </td><td>NA</td><td>NA</td><td>41.90000</td><td>-87.63000</td><td>41.88</td><td>-87.62</td><td>casual</td></tr>\n",
       "\t<tr><td>02F85C2C3C5F7D46</td><td>electric_bike</td><td>2021-11-26 18:34:07</td><td>2021-11-26 18:52:49</td><td>Michigan Ave &amp; Oak St</td><td>13042</td><td>NA</td><td>NA</td><td>41.90086</td><td>-87.62379</td><td>41.90</td><td>-87.63</td><td>casual</td></tr>\n",
       "</tbody>\n",
       "</table>\n"
      ],
      "text/latex": [
       "A tibble: 6 × 13\n",
       "\\begin{tabular}{lllllllllllll}\n",
       " ride\\_id & rideable\\_type & started\\_at & ended\\_at & start\\_station\\_name & start\\_station\\_id & end\\_station\\_name & end\\_station\\_id & start\\_lat & start\\_lng & end\\_lat & end\\_lng & member\\_casual\\\\\n",
       " <chr> & <chr> & <dttm> & <dttm> & <chr> & <chr> & <chr> & <chr> & <dbl> & <dbl> & <dbl> & <dbl> & <chr>\\\\\n",
       "\\hline\n",
       "\t 7C00A93E10556E47 & electric\\_bike & 2021-11-27 13:27:38 & 2021-11-27 13:46:38 & NA                    & NA    & NA & NA & 41.93000 & -87.72000 & 41.96 & -87.73 & casual\\\\\n",
       "\t 90854840DFD508BA & electric\\_bike & 2021-11-27 13:38:25 & 2021-11-27 13:56:10 & NA                    & NA    & NA & NA & 41.96000 & -87.70000 & 41.92 & -87.70 & casual\\\\\n",
       "\t 0A7D10CDD144061C & electric\\_bike & 2021-11-26 22:03:34 & 2021-11-26 22:05:56 & NA                    & NA    & NA & NA & 41.96000 & -87.70000 & 41.96 & -87.70 & casual\\\\\n",
       "\t 2F3BE33085BCFF02 & electric\\_bike & 2021-11-27 09:56:49 & 2021-11-27 10:01:50 & NA                    & NA    & NA & NA & 41.94000 & -87.79000 & 41.93 & -87.79 & casual\\\\\n",
       "\t D67B4781A19928D4 & electric\\_bike & 2021-11-26 19:09:28 & 2021-11-26 19:30:41 & NA                    & NA    & NA & NA & 41.90000 & -87.63000 & 41.88 & -87.62 & casual\\\\\n",
       "\t 02F85C2C3C5F7D46 & electric\\_bike & 2021-11-26 18:34:07 & 2021-11-26 18:52:49 & Michigan Ave \\& Oak St & 13042 & NA & NA & 41.90086 & -87.62379 & 41.90 & -87.63 & casual\\\\\n",
       "\\end{tabular}\n"
      ],
      "text/markdown": [
       "\n",
       "A tibble: 6 × 13\n",
       "\n",
       "| ride_id &lt;chr&gt; | rideable_type &lt;chr&gt; | started_at &lt;dttm&gt; | ended_at &lt;dttm&gt; | start_station_name &lt;chr&gt; | start_station_id &lt;chr&gt; | end_station_name &lt;chr&gt; | end_station_id &lt;chr&gt; | start_lat &lt;dbl&gt; | start_lng &lt;dbl&gt; | end_lat &lt;dbl&gt; | end_lng &lt;dbl&gt; | member_casual &lt;chr&gt; |\n",
       "|---|---|---|---|---|---|---|---|---|---|---|---|---|\n",
       "| 7C00A93E10556E47 | electric_bike | 2021-11-27 13:27:38 | 2021-11-27 13:46:38 | NA                    | NA    | NA | NA | 41.93000 | -87.72000 | 41.96 | -87.73 | casual |\n",
       "| 90854840DFD508BA | electric_bike | 2021-11-27 13:38:25 | 2021-11-27 13:56:10 | NA                    | NA    | NA | NA | 41.96000 | -87.70000 | 41.92 | -87.70 | casual |\n",
       "| 0A7D10CDD144061C | electric_bike | 2021-11-26 22:03:34 | 2021-11-26 22:05:56 | NA                    | NA    | NA | NA | 41.96000 | -87.70000 | 41.96 | -87.70 | casual |\n",
       "| 2F3BE33085BCFF02 | electric_bike | 2021-11-27 09:56:49 | 2021-11-27 10:01:50 | NA                    | NA    | NA | NA | 41.94000 | -87.79000 | 41.93 | -87.79 | casual |\n",
       "| D67B4781A19928D4 | electric_bike | 2021-11-26 19:09:28 | 2021-11-26 19:30:41 | NA                    | NA    | NA | NA | 41.90000 | -87.63000 | 41.88 | -87.62 | casual |\n",
       "| 02F85C2C3C5F7D46 | electric_bike | 2021-11-26 18:34:07 | 2021-11-26 18:52:49 | Michigan Ave &amp; Oak St | 13042 | NA | NA | 41.90086 | -87.62379 | 41.90 | -87.63 | casual |\n",
       "\n"
      ],
      "text/plain": [
       "  ride_id          rideable_type started_at          ended_at           \n",
       "1 7C00A93E10556E47 electric_bike 2021-11-27 13:27:38 2021-11-27 13:46:38\n",
       "2 90854840DFD508BA electric_bike 2021-11-27 13:38:25 2021-11-27 13:56:10\n",
       "3 0A7D10CDD144061C electric_bike 2021-11-26 22:03:34 2021-11-26 22:05:56\n",
       "4 2F3BE33085BCFF02 electric_bike 2021-11-27 09:56:49 2021-11-27 10:01:50\n",
       "5 D67B4781A19928D4 electric_bike 2021-11-26 19:09:28 2021-11-26 19:30:41\n",
       "6 02F85C2C3C5F7D46 electric_bike 2021-11-26 18:34:07 2021-11-26 18:52:49\n",
       "  start_station_name    start_station_id end_station_name end_station_id\n",
       "1 NA                    NA               NA               NA            \n",
       "2 NA                    NA               NA               NA            \n",
       "3 NA                    NA               NA               NA            \n",
       "4 NA                    NA               NA               NA            \n",
       "5 NA                    NA               NA               NA            \n",
       "6 Michigan Ave & Oak St 13042            NA               NA            \n",
       "  start_lat start_lng end_lat end_lng member_casual\n",
       "1 41.93000  -87.72000 41.96   -87.73  casual       \n",
       "2 41.96000  -87.70000 41.92   -87.70  casual       \n",
       "3 41.96000  -87.70000 41.96   -87.70  casual       \n",
       "4 41.94000  -87.79000 41.93   -87.79  casual       \n",
       "5 41.90000  -87.63000 41.88   -87.62  casual       \n",
       "6 41.90086  -87.62379 41.90   -87.63  casual       "
      ]
     },
     "metadata": {},
     "output_type": "display_data"
    },
    {
     "name": "stdout",
     "output_type": "stream",
     "text": [
      "spec_tbl_df [5,755,694 × 13] (S3: spec_tbl_df/tbl_df/tbl/data.frame)\n",
      " $ ride_id           : chr [1:5755694] \"7C00A93E10556E47\" \"90854840DFD508BA\" \"0A7D10CDD144061C\" \"2F3BE33085BCFF02\" ...\n",
      " $ rideable_type     : chr [1:5755694] \"electric_bike\" \"electric_bike\" \"electric_bike\" \"electric_bike\" ...\n",
      " $ started_at        : POSIXct[1:5755694], format: \"2021-11-27 13:27:38\" \"2021-11-27 13:38:25\" ...\n",
      " $ ended_at          : POSIXct[1:5755694], format: \"2021-11-27 13:46:38\" \"2021-11-27 13:56:10\" ...\n",
      " $ start_station_name: chr [1:5755694] NA NA NA NA ...\n",
      " $ start_station_id  : chr [1:5755694] NA NA NA NA ...\n",
      " $ end_station_name  : chr [1:5755694] NA NA NA NA ...\n",
      " $ end_station_id    : chr [1:5755694] NA NA NA NA ...\n",
      " $ start_lat         : num [1:5755694] 41.9 42 42 41.9 41.9 ...\n",
      " $ start_lng         : num [1:5755694] -87.7 -87.7 -87.7 -87.8 -87.6 ...\n",
      " $ end_lat           : num [1:5755694] 42 41.9 42 41.9 41.9 ...\n",
      " $ end_lng           : num [1:5755694] -87.7 -87.7 -87.7 -87.8 -87.6 ...\n",
      " $ member_casual     : chr [1:5755694] \"casual\" \"casual\" \"casual\" \"casual\" ...\n",
      " - attr(*, \"spec\")=\n",
      "  .. cols(\n",
      "  ..   ride_id = \u001b[31mcol_character()\u001b[39m,\n",
      "  ..   rideable_type = \u001b[31mcol_character()\u001b[39m,\n",
      "  ..   started_at = \u001b[34mcol_datetime(format = \"\")\u001b[39m,\n",
      "  ..   ended_at = \u001b[34mcol_datetime(format = \"\")\u001b[39m,\n",
      "  ..   start_station_name = \u001b[31mcol_character()\u001b[39m,\n",
      "  ..   start_station_id = \u001b[31mcol_character()\u001b[39m,\n",
      "  ..   end_station_name = \u001b[31mcol_character()\u001b[39m,\n",
      "  ..   end_station_id = \u001b[31mcol_character()\u001b[39m,\n",
      "  ..   start_lat = \u001b[32mcol_double()\u001b[39m,\n",
      "  ..   start_lng = \u001b[32mcol_double()\u001b[39m,\n",
      "  ..   end_lat = \u001b[32mcol_double()\u001b[39m,\n",
      "  ..   end_lng = \u001b[32mcol_double()\u001b[39m,\n",
      "  ..   member_casual = \u001b[31mcol_character()\u001b[39m\n",
      "  .. )\n",
      " - attr(*, \"problems\")=<externalptr> \n"
     ]
    }
   ],
   "source": [
    "colnames(Nov_21)\n",
    "colnames(Dez_21)\n",
    "colnames(Jan_22)\n",
    "colnames(Fev_22)\n",
    "colnames(Mar_22)\n",
    "colnames(Abr_22)\n",
    "colnames(Mai_22)\n",
    "colnames(Jun_22)\n",
    "colnames(Jul_22)\n",
    "colnames(Ago_22)\n",
    "colnames(Set_22)\n",
    "colnames(Out_22)\n",
    "\n",
    "dados_ano <- rbind(Nov_21,Dez_21,Jan_22,Fev_22,Mar_22,Abr_22,Mai_22,Jun_22,Jul_22,Ago_22,Set_22,Out_22)\n",
    "head(dados_ano)\n",
    "str(dados_ano)"
   ]
  },
  {
   "cell_type": "markdown",
   "id": "c3254de9",
   "metadata": {
    "papermill": {
     "duration": 0.008983,
     "end_time": "2022-12-15T01:42:24.431358",
     "exception": false,
     "start_time": "2022-12-15T01:42:24.422375",
     "status": "completed"
    },
    "tags": []
   },
   "source": [
    "Retirando as observações com NA da base."
   ]
  },
  {
   "cell_type": "code",
   "execution_count": 4,
   "id": "c72bb82e",
   "metadata": {
    "execution": {
     "iopub.execute_input": "2022-12-15T01:42:24.451878Z",
     "iopub.status.busy": "2022-12-15T01:42:24.450640Z",
     "iopub.status.idle": "2022-12-15T01:42:26.859164Z",
     "shell.execute_reply": "2022-12-15T01:42:26.857841Z"
    },
    "papermill": {
     "duration": 2.420843,
     "end_time": "2022-12-15T01:42:26.860971",
     "exception": false,
     "start_time": "2022-12-15T01:42:24.440128",
     "status": "completed"
    },
    "tags": []
   },
   "outputs": [
    {
     "data": {
      "text/html": [
       "<table class=\"dataframe\">\n",
       "<caption>A tibble: 6 × 13</caption>\n",
       "<thead>\n",
       "\t<tr><th scope=col>ride_id</th><th scope=col>rideable_type</th><th scope=col>started_at</th><th scope=col>ended_at</th><th scope=col>start_station_name</th><th scope=col>start_station_id</th><th scope=col>end_station_name</th><th scope=col>end_station_id</th><th scope=col>start_lat</th><th scope=col>start_lng</th><th scope=col>end_lat</th><th scope=col>end_lng</th><th scope=col>member_casual</th></tr>\n",
       "\t<tr><th scope=col>&lt;chr&gt;</th><th scope=col>&lt;chr&gt;</th><th scope=col>&lt;dttm&gt;</th><th scope=col>&lt;dttm&gt;</th><th scope=col>&lt;chr&gt;</th><th scope=col>&lt;chr&gt;</th><th scope=col>&lt;chr&gt;</th><th scope=col>&lt;chr&gt;</th><th scope=col>&lt;dbl&gt;</th><th scope=col>&lt;dbl&gt;</th><th scope=col>&lt;dbl&gt;</th><th scope=col>&lt;dbl&gt;</th><th scope=col>&lt;chr&gt;</th></tr>\n",
       "</thead>\n",
       "<tbody>\n",
       "\t<tr><td>4CA9676997DAFFF6</td><td>classic_bike </td><td>2021-11-26 10:27:28</td><td>2021-11-26 11:22:13</td><td><span style=white-space:pre-wrap>Michigan Ave &amp; Oak St     </span></td><td><span style=white-space:pre-wrap>13042       </span></td><td><span style=white-space:pre-wrap>Michigan Ave &amp; Oak St     </span></td><td><span style=white-space:pre-wrap>13042       </span></td><td>41.90096</td><td>-87.62378</td><td>41.90096</td><td>-87.62378</td><td>casual</td></tr>\n",
       "\t<tr><td>F3E84A230AF2D676</td><td>classic_bike </td><td>2021-11-15 09:35:03</td><td>2021-11-15 09:42:08</td><td><span style=white-space:pre-wrap>Clark St &amp; Grace St       </span></td><td>TA1307000127</td><td><span style=white-space:pre-wrap>Clark St &amp; Leland Ave     </span></td><td>TA1309000014</td><td>41.95078</td><td>-87.65917</td><td>41.96710</td><td>-87.66743</td><td>casual</td></tr>\n",
       "\t<tr><td>A1F2C92308007968</td><td>electric_bike</td><td>2021-11-10 16:27:02</td><td>2021-11-10 17:04:28</td><td>Leamington Ave &amp; Hirsch St</td><td><span style=white-space:pre-wrap>307         </span></td><td>Leamington Ave &amp; Hirsch St</td><td><span style=white-space:pre-wrap>307         </span></td><td>41.91000</td><td>-87.75000</td><td>41.91000</td><td>-87.75000</td><td>casual</td></tr>\n",
       "\t<tr><td>9B871C3B14E9BEC4</td><td>classic_bike </td><td>2021-11-09 19:51:36</td><td>2021-11-09 20:11:17</td><td>Desplaines St &amp; Kinzie St </td><td>TA1306000003</td><td>Desplaines St &amp; Kinzie St </td><td>TA1306000003</td><td>41.88872</td><td>-87.64445</td><td>41.88872</td><td>-87.64445</td><td>casual</td></tr>\n",
       "\t<tr><td>2A81E957DD24A3DC</td><td>classic_bike </td><td>2021-11-06 19:14:10</td><td>2021-11-06 19:33:19</td><td>Larrabee St &amp; Armitage Ave</td><td>TA1309000006</td><td><span style=white-space:pre-wrap>Michigan Ave &amp; Oak St     </span></td><td><span style=white-space:pre-wrap>13042       </span></td><td>41.91808</td><td>-87.64375</td><td>41.90096</td><td>-87.62378</td><td>casual</td></tr>\n",
       "\t<tr><td>A57F8F504A01004E</td><td>electric_bike</td><td>2021-11-18 11:58:24</td><td>2021-11-18 12:08:35</td><td><span style=white-space:pre-wrap>Michigan Ave &amp; Oak St     </span></td><td><span style=white-space:pre-wrap>13042       </span></td><td><span style=white-space:pre-wrap>Michigan Ave &amp; Oak St     </span></td><td><span style=white-space:pre-wrap>13042       </span></td><td>41.90114</td><td>-87.62353</td><td>41.90100</td><td>-87.62375</td><td>casual</td></tr>\n",
       "</tbody>\n",
       "</table>\n"
      ],
      "text/latex": [
       "A tibble: 6 × 13\n",
       "\\begin{tabular}{lllllllllllll}\n",
       " ride\\_id & rideable\\_type & started\\_at & ended\\_at & start\\_station\\_name & start\\_station\\_id & end\\_station\\_name & end\\_station\\_id & start\\_lat & start\\_lng & end\\_lat & end\\_lng & member\\_casual\\\\\n",
       " <chr> & <chr> & <dttm> & <dttm> & <chr> & <chr> & <chr> & <chr> & <dbl> & <dbl> & <dbl> & <dbl> & <chr>\\\\\n",
       "\\hline\n",
       "\t 4CA9676997DAFFF6 & classic\\_bike  & 2021-11-26 10:27:28 & 2021-11-26 11:22:13 & Michigan Ave \\& Oak St      & 13042        & Michigan Ave \\& Oak St      & 13042        & 41.90096 & -87.62378 & 41.90096 & -87.62378 & casual\\\\\n",
       "\t F3E84A230AF2D676 & classic\\_bike  & 2021-11-15 09:35:03 & 2021-11-15 09:42:08 & Clark St \\& Grace St        & TA1307000127 & Clark St \\& Leland Ave      & TA1309000014 & 41.95078 & -87.65917 & 41.96710 & -87.66743 & casual\\\\\n",
       "\t A1F2C92308007968 & electric\\_bike & 2021-11-10 16:27:02 & 2021-11-10 17:04:28 & Leamington Ave \\& Hirsch St & 307          & Leamington Ave \\& Hirsch St & 307          & 41.91000 & -87.75000 & 41.91000 & -87.75000 & casual\\\\\n",
       "\t 9B871C3B14E9BEC4 & classic\\_bike  & 2021-11-09 19:51:36 & 2021-11-09 20:11:17 & Desplaines St \\& Kinzie St  & TA1306000003 & Desplaines St \\& Kinzie St  & TA1306000003 & 41.88872 & -87.64445 & 41.88872 & -87.64445 & casual\\\\\n",
       "\t 2A81E957DD24A3DC & classic\\_bike  & 2021-11-06 19:14:10 & 2021-11-06 19:33:19 & Larrabee St \\& Armitage Ave & TA1309000006 & Michigan Ave \\& Oak St      & 13042        & 41.91808 & -87.64375 & 41.90096 & -87.62378 & casual\\\\\n",
       "\t A57F8F504A01004E & electric\\_bike & 2021-11-18 11:58:24 & 2021-11-18 12:08:35 & Michigan Ave \\& Oak St      & 13042        & Michigan Ave \\& Oak St      & 13042        & 41.90114 & -87.62353 & 41.90100 & -87.62375 & casual\\\\\n",
       "\\end{tabular}\n"
      ],
      "text/markdown": [
       "\n",
       "A tibble: 6 × 13\n",
       "\n",
       "| ride_id &lt;chr&gt; | rideable_type &lt;chr&gt; | started_at &lt;dttm&gt; | ended_at &lt;dttm&gt; | start_station_name &lt;chr&gt; | start_station_id &lt;chr&gt; | end_station_name &lt;chr&gt; | end_station_id &lt;chr&gt; | start_lat &lt;dbl&gt; | start_lng &lt;dbl&gt; | end_lat &lt;dbl&gt; | end_lng &lt;dbl&gt; | member_casual &lt;chr&gt; |\n",
       "|---|---|---|---|---|---|---|---|---|---|---|---|---|\n",
       "| 4CA9676997DAFFF6 | classic_bike  | 2021-11-26 10:27:28 | 2021-11-26 11:22:13 | Michigan Ave &amp; Oak St      | 13042        | Michigan Ave &amp; Oak St      | 13042        | 41.90096 | -87.62378 | 41.90096 | -87.62378 | casual |\n",
       "| F3E84A230AF2D676 | classic_bike  | 2021-11-15 09:35:03 | 2021-11-15 09:42:08 | Clark St &amp; Grace St        | TA1307000127 | Clark St &amp; Leland Ave      | TA1309000014 | 41.95078 | -87.65917 | 41.96710 | -87.66743 | casual |\n",
       "| A1F2C92308007968 | electric_bike | 2021-11-10 16:27:02 | 2021-11-10 17:04:28 | Leamington Ave &amp; Hirsch St | 307          | Leamington Ave &amp; Hirsch St | 307          | 41.91000 | -87.75000 | 41.91000 | -87.75000 | casual |\n",
       "| 9B871C3B14E9BEC4 | classic_bike  | 2021-11-09 19:51:36 | 2021-11-09 20:11:17 | Desplaines St &amp; Kinzie St  | TA1306000003 | Desplaines St &amp; Kinzie St  | TA1306000003 | 41.88872 | -87.64445 | 41.88872 | -87.64445 | casual |\n",
       "| 2A81E957DD24A3DC | classic_bike  | 2021-11-06 19:14:10 | 2021-11-06 19:33:19 | Larrabee St &amp; Armitage Ave | TA1309000006 | Michigan Ave &amp; Oak St      | 13042        | 41.91808 | -87.64375 | 41.90096 | -87.62378 | casual |\n",
       "| A57F8F504A01004E | electric_bike | 2021-11-18 11:58:24 | 2021-11-18 12:08:35 | Michigan Ave &amp; Oak St      | 13042        | Michigan Ave &amp; Oak St      | 13042        | 41.90114 | -87.62353 | 41.90100 | -87.62375 | casual |\n",
       "\n"
      ],
      "text/plain": [
       "  ride_id          rideable_type started_at          ended_at           \n",
       "1 4CA9676997DAFFF6 classic_bike  2021-11-26 10:27:28 2021-11-26 11:22:13\n",
       "2 F3E84A230AF2D676 classic_bike  2021-11-15 09:35:03 2021-11-15 09:42:08\n",
       "3 A1F2C92308007968 electric_bike 2021-11-10 16:27:02 2021-11-10 17:04:28\n",
       "4 9B871C3B14E9BEC4 classic_bike  2021-11-09 19:51:36 2021-11-09 20:11:17\n",
       "5 2A81E957DD24A3DC classic_bike  2021-11-06 19:14:10 2021-11-06 19:33:19\n",
       "6 A57F8F504A01004E electric_bike 2021-11-18 11:58:24 2021-11-18 12:08:35\n",
       "  start_station_name         start_station_id end_station_name          \n",
       "1 Michigan Ave & Oak St      13042            Michigan Ave & Oak St     \n",
       "2 Clark St & Grace St        TA1307000127     Clark St & Leland Ave     \n",
       "3 Leamington Ave & Hirsch St 307              Leamington Ave & Hirsch St\n",
       "4 Desplaines St & Kinzie St  TA1306000003     Desplaines St & Kinzie St \n",
       "5 Larrabee St & Armitage Ave TA1309000006     Michigan Ave & Oak St     \n",
       "6 Michigan Ave & Oak St      13042            Michigan Ave & Oak St     \n",
       "  end_station_id start_lat start_lng end_lat  end_lng   member_casual\n",
       "1 13042          41.90096  -87.62378 41.90096 -87.62378 casual       \n",
       "2 TA1309000014   41.95078  -87.65917 41.96710 -87.66743 casual       \n",
       "3 307            41.91000  -87.75000 41.91000 -87.75000 casual       \n",
       "4 TA1306000003   41.88872  -87.64445 41.88872 -87.64445 casual       \n",
       "5 13042          41.91808  -87.64375 41.90096 -87.62378 casual       \n",
       "6 13042          41.90114  -87.62353 41.90100 -87.62375 casual       "
      ]
     },
     "metadata": {},
     "output_type": "display_data"
    },
    {
     "data": {
      "text/html": [
       "5755694"
      ],
      "text/latex": [
       "5755694"
      ],
      "text/markdown": [
       "5755694"
      ],
      "text/plain": [
       "[1] 5755694"
      ]
     },
     "metadata": {},
     "output_type": "display_data"
    },
    {
     "data": {
      "text/html": [
       "4410438"
      ],
      "text/latex": [
       "4410438"
      ],
      "text/markdown": [
       "4410438"
      ],
      "text/plain": [
       "[1] 4410438"
      ]
     },
     "metadata": {},
     "output_type": "display_data"
    },
    {
     "data": {
      "text/html": [
       "'1345256 linhas com NA retiradas'"
      ],
      "text/latex": [
       "'1345256 linhas com NA retiradas'"
      ],
      "text/markdown": [
       "'1345256 linhas com NA retiradas'"
      ],
      "text/plain": [
       "[1] \"1345256 linhas com NA retiradas\""
      ]
     },
     "metadata": {},
     "output_type": "display_data"
    },
    {
     "data": {
      "text/html": [
       "FALSE"
      ],
      "text/latex": [
       "FALSE"
      ],
      "text/markdown": [
       "FALSE"
      ],
      "text/plain": [
       "[1] FALSE"
      ]
     },
     "metadata": {},
     "output_type": "display_data"
    }
   ],
   "source": [
    "dados_ano2 <- drop_na(dados_ano)\n",
    "head(dados_ano2)\n",
    "nrow(dados_ano)\n",
    "nrow(dados_ano2)\n",
    "N_NA <- nrow(dados_ano)-nrow(dados_ano2)\n",
    "paste(N_NA, \"linhas com NA retiradas\") ## Como mesmo retirando essas linhas ainda temos um volume grande para analisar, mantive essa análise.\n",
    "anyNA(dados_ano2)"
   ]
  },
  {
   "cell_type": "markdown",
   "id": "aa6bc1c6",
   "metadata": {
    "papermill": {
     "duration": 0.009914,
     "end_time": "2022-12-15T01:42:26.881244",
     "exception": false,
     "start_time": "2022-12-15T01:42:26.871330",
     "status": "completed"
    },
    "tags": []
   },
   "source": [
    "Criando novas variáveis (ride_length, week_day, month e year)"
   ]
  },
  {
   "cell_type": "code",
   "execution_count": 5,
   "id": "88849988",
   "metadata": {
    "execution": {
     "iopub.execute_input": "2022-12-15T01:42:26.903674Z",
     "iopub.status.busy": "2022-12-15T01:42:26.902147Z",
     "iopub.status.idle": "2022-12-15T01:42:29.240153Z",
     "shell.execute_reply": "2022-12-15T01:42:29.238642Z"
    },
    "papermill": {
     "duration": 2.352037,
     "end_time": "2022-12-15T01:42:29.242928",
     "exception": false,
     "start_time": "2022-12-15T01:42:26.890891",
     "status": "completed"
    },
    "tags": []
   },
   "outputs": [],
   "source": [
    "dados_ano2$ride_length <- difftime(dados_ano2$ended_at,dados_ano2$started_at)\n",
    "dados_ano2$ride_length <- as.numeric(dados_ano2$ride_length)\n",
    "dados_ano2$week_day <- weekdays(dados_ano2$started_at)\n",
    "dados_ano2$month <- month(dados_ano2$started_at)\n",
    "dados_ano2$year <- year(dados_ano2$started_at)"
   ]
  },
  {
   "cell_type": "markdown",
   "id": "7c27a91a",
   "metadata": {
    "papermill": {
     "duration": 0.010072,
     "end_time": "2022-12-15T01:42:29.264252",
     "exception": false,
     "start_time": "2022-12-15T01:42:29.254180",
     "status": "completed"
    },
    "tags": []
   },
   "source": [
    "Tabulando algumas variáveis para saber os tipos de respostas que temos."
   ]
  },
  {
   "cell_type": "code",
   "execution_count": 6,
   "id": "a162e954",
   "metadata": {
    "execution": {
     "iopub.execute_input": "2022-12-15T01:42:29.287370Z",
     "iopub.status.busy": "2022-12-15T01:42:29.285964Z",
     "iopub.status.idle": "2022-12-15T01:42:39.470033Z",
     "shell.execute_reply": "2022-12-15T01:42:39.468832Z"
    },
    "papermill": {
     "duration": 10.198315,
     "end_time": "2022-12-15T01:42:39.472615",
     "exception": false,
     "start_time": "2022-12-15T01:42:29.274300",
     "status": "completed"
    },
    "tags": []
   },
   "outputs": [
    {
     "data": {
      "text/plain": [
       "\n",
       " casual  member \n",
       "1768182 2642256 "
      ]
     },
     "metadata": {},
     "output_type": "display_data"
    },
    {
     "data": {
      "text/plain": [
       "\n",
       "   Friday    Monday  Saturday    Sunday  Thursday   Tuesday Wednesday \n",
       "   614787    600200    720914    609133    639252    608576    617576 "
      ]
     },
     "metadata": {},
     "output_type": "display_data"
    },
    {
     "data": {
      "text/plain": [
       "\n",
       "     1      2      3      4      5      6      7      8      9     10     11 \n",
       " 80128  89178 215983 272560 502545 620350 642680 605325 535145 414269 255904 \n",
       "    12 \n",
       "176371 "
      ]
     },
     "metadata": {},
     "output_type": "display_data"
    },
    {
     "data": {
      "text/plain": [
       "\n",
       "   2021    2022 \n",
       " 432275 3978163 "
      ]
     },
     "metadata": {},
     "output_type": "display_data"
    },
    {
     "data": {
      "text/html": [
       "<table class=\"dataframe\">\n",
       "<caption>A tibble: 6 × 17</caption>\n",
       "<thead>\n",
       "\t<tr><th scope=col>ride_id</th><th scope=col>rideable_type</th><th scope=col>started_at</th><th scope=col>ended_at</th><th scope=col>start_station_name</th><th scope=col>start_station_id</th><th scope=col>end_station_name</th><th scope=col>end_station_id</th><th scope=col>start_lat</th><th scope=col>start_lng</th><th scope=col>end_lat</th><th scope=col>end_lng</th><th scope=col>member_casual</th><th scope=col>ride_length</th><th scope=col>week_day</th><th scope=col>month</th><th scope=col>year</th></tr>\n",
       "\t<tr><th scope=col>&lt;chr&gt;</th><th scope=col>&lt;chr&gt;</th><th scope=col>&lt;dttm&gt;</th><th scope=col>&lt;dttm&gt;</th><th scope=col>&lt;chr&gt;</th><th scope=col>&lt;chr&gt;</th><th scope=col>&lt;chr&gt;</th><th scope=col>&lt;chr&gt;</th><th scope=col>&lt;dbl&gt;</th><th scope=col>&lt;dbl&gt;</th><th scope=col>&lt;dbl&gt;</th><th scope=col>&lt;dbl&gt;</th><th scope=col>&lt;chr&gt;</th><th scope=col>&lt;dbl&gt;</th><th scope=col>&lt;chr&gt;</th><th scope=col>&lt;dbl&gt;</th><th scope=col>&lt;dbl&gt;</th></tr>\n",
       "</thead>\n",
       "<tbody>\n",
       "\t<tr><td>4CA9676997DAFFF6</td><td>classic_bike </td><td>2021-11-26 10:27:28</td><td>2021-11-26 11:22:13</td><td><span style=white-space:pre-wrap>Michigan Ave &amp; Oak St     </span></td><td><span style=white-space:pre-wrap>13042       </span></td><td><span style=white-space:pre-wrap>Michigan Ave &amp; Oak St     </span></td><td><span style=white-space:pre-wrap>13042       </span></td><td>41.90096</td><td>-87.62378</td><td>41.90096</td><td>-87.62378</td><td>casual</td><td>3285</td><td><span style=white-space:pre-wrap>Friday   </span></td><td>11</td><td>2021</td></tr>\n",
       "\t<tr><td>F3E84A230AF2D676</td><td>classic_bike </td><td>2021-11-15 09:35:03</td><td>2021-11-15 09:42:08</td><td><span style=white-space:pre-wrap>Clark St &amp; Grace St       </span></td><td>TA1307000127</td><td><span style=white-space:pre-wrap>Clark St &amp; Leland Ave     </span></td><td>TA1309000014</td><td>41.95078</td><td>-87.65917</td><td>41.96710</td><td>-87.66743</td><td>casual</td><td> 425</td><td><span style=white-space:pre-wrap>Monday   </span></td><td>11</td><td>2021</td></tr>\n",
       "\t<tr><td>A1F2C92308007968</td><td>electric_bike</td><td>2021-11-10 16:27:02</td><td>2021-11-10 17:04:28</td><td>Leamington Ave &amp; Hirsch St</td><td><span style=white-space:pre-wrap>307         </span></td><td>Leamington Ave &amp; Hirsch St</td><td><span style=white-space:pre-wrap>307         </span></td><td>41.91000</td><td>-87.75000</td><td>41.91000</td><td>-87.75000</td><td>casual</td><td>2246</td><td>Wednesday</td><td>11</td><td>2021</td></tr>\n",
       "\t<tr><td>9B871C3B14E9BEC4</td><td>classic_bike </td><td>2021-11-09 19:51:36</td><td>2021-11-09 20:11:17</td><td>Desplaines St &amp; Kinzie St </td><td>TA1306000003</td><td>Desplaines St &amp; Kinzie St </td><td>TA1306000003</td><td>41.88872</td><td>-87.64445</td><td>41.88872</td><td>-87.64445</td><td>casual</td><td>1181</td><td><span style=white-space:pre-wrap>Tuesday  </span></td><td>11</td><td>2021</td></tr>\n",
       "\t<tr><td>2A81E957DD24A3DC</td><td>classic_bike </td><td>2021-11-06 19:14:10</td><td>2021-11-06 19:33:19</td><td>Larrabee St &amp; Armitage Ave</td><td>TA1309000006</td><td><span style=white-space:pre-wrap>Michigan Ave &amp; Oak St     </span></td><td><span style=white-space:pre-wrap>13042       </span></td><td>41.91808</td><td>-87.64375</td><td>41.90096</td><td>-87.62378</td><td>casual</td><td>1149</td><td>Saturday </td><td>11</td><td>2021</td></tr>\n",
       "\t<tr><td>A57F8F504A01004E</td><td>electric_bike</td><td>2021-11-18 11:58:24</td><td>2021-11-18 12:08:35</td><td><span style=white-space:pre-wrap>Michigan Ave &amp; Oak St     </span></td><td><span style=white-space:pre-wrap>13042       </span></td><td><span style=white-space:pre-wrap>Michigan Ave &amp; Oak St     </span></td><td><span style=white-space:pre-wrap>13042       </span></td><td>41.90114</td><td>-87.62353</td><td>41.90100</td><td>-87.62375</td><td>casual</td><td> 611</td><td>Thursday </td><td>11</td><td>2021</td></tr>\n",
       "</tbody>\n",
       "</table>\n"
      ],
      "text/latex": [
       "A tibble: 6 × 17\n",
       "\\begin{tabular}{lllllllllllllllll}\n",
       " ride\\_id & rideable\\_type & started\\_at & ended\\_at & start\\_station\\_name & start\\_station\\_id & end\\_station\\_name & end\\_station\\_id & start\\_lat & start\\_lng & end\\_lat & end\\_lng & member\\_casual & ride\\_length & week\\_day & month & year\\\\\n",
       " <chr> & <chr> & <dttm> & <dttm> & <chr> & <chr> & <chr> & <chr> & <dbl> & <dbl> & <dbl> & <dbl> & <chr> & <dbl> & <chr> & <dbl> & <dbl>\\\\\n",
       "\\hline\n",
       "\t 4CA9676997DAFFF6 & classic\\_bike  & 2021-11-26 10:27:28 & 2021-11-26 11:22:13 & Michigan Ave \\& Oak St      & 13042        & Michigan Ave \\& Oak St      & 13042        & 41.90096 & -87.62378 & 41.90096 & -87.62378 & casual & 3285 & Friday    & 11 & 2021\\\\\n",
       "\t F3E84A230AF2D676 & classic\\_bike  & 2021-11-15 09:35:03 & 2021-11-15 09:42:08 & Clark St \\& Grace St        & TA1307000127 & Clark St \\& Leland Ave      & TA1309000014 & 41.95078 & -87.65917 & 41.96710 & -87.66743 & casual &  425 & Monday    & 11 & 2021\\\\\n",
       "\t A1F2C92308007968 & electric\\_bike & 2021-11-10 16:27:02 & 2021-11-10 17:04:28 & Leamington Ave \\& Hirsch St & 307          & Leamington Ave \\& Hirsch St & 307          & 41.91000 & -87.75000 & 41.91000 & -87.75000 & casual & 2246 & Wednesday & 11 & 2021\\\\\n",
       "\t 9B871C3B14E9BEC4 & classic\\_bike  & 2021-11-09 19:51:36 & 2021-11-09 20:11:17 & Desplaines St \\& Kinzie St  & TA1306000003 & Desplaines St \\& Kinzie St  & TA1306000003 & 41.88872 & -87.64445 & 41.88872 & -87.64445 & casual & 1181 & Tuesday   & 11 & 2021\\\\\n",
       "\t 2A81E957DD24A3DC & classic\\_bike  & 2021-11-06 19:14:10 & 2021-11-06 19:33:19 & Larrabee St \\& Armitage Ave & TA1309000006 & Michigan Ave \\& Oak St      & 13042        & 41.91808 & -87.64375 & 41.90096 & -87.62378 & casual & 1149 & Saturday  & 11 & 2021\\\\\n",
       "\t A57F8F504A01004E & electric\\_bike & 2021-11-18 11:58:24 & 2021-11-18 12:08:35 & Michigan Ave \\& Oak St      & 13042        & Michigan Ave \\& Oak St      & 13042        & 41.90114 & -87.62353 & 41.90100 & -87.62375 & casual &  611 & Thursday  & 11 & 2021\\\\\n",
       "\\end{tabular}\n"
      ],
      "text/markdown": [
       "\n",
       "A tibble: 6 × 17\n",
       "\n",
       "| ride_id &lt;chr&gt; | rideable_type &lt;chr&gt; | started_at &lt;dttm&gt; | ended_at &lt;dttm&gt; | start_station_name &lt;chr&gt; | start_station_id &lt;chr&gt; | end_station_name &lt;chr&gt; | end_station_id &lt;chr&gt; | start_lat &lt;dbl&gt; | start_lng &lt;dbl&gt; | end_lat &lt;dbl&gt; | end_lng &lt;dbl&gt; | member_casual &lt;chr&gt; | ride_length &lt;dbl&gt; | week_day &lt;chr&gt; | month &lt;dbl&gt; | year &lt;dbl&gt; |\n",
       "|---|---|---|---|---|---|---|---|---|---|---|---|---|---|---|---|---|\n",
       "| 4CA9676997DAFFF6 | classic_bike  | 2021-11-26 10:27:28 | 2021-11-26 11:22:13 | Michigan Ave &amp; Oak St      | 13042        | Michigan Ave &amp; Oak St      | 13042        | 41.90096 | -87.62378 | 41.90096 | -87.62378 | casual | 3285 | Friday    | 11 | 2021 |\n",
       "| F3E84A230AF2D676 | classic_bike  | 2021-11-15 09:35:03 | 2021-11-15 09:42:08 | Clark St &amp; Grace St        | TA1307000127 | Clark St &amp; Leland Ave      | TA1309000014 | 41.95078 | -87.65917 | 41.96710 | -87.66743 | casual |  425 | Monday    | 11 | 2021 |\n",
       "| A1F2C92308007968 | electric_bike | 2021-11-10 16:27:02 | 2021-11-10 17:04:28 | Leamington Ave &amp; Hirsch St | 307          | Leamington Ave &amp; Hirsch St | 307          | 41.91000 | -87.75000 | 41.91000 | -87.75000 | casual | 2246 | Wednesday | 11 | 2021 |\n",
       "| 9B871C3B14E9BEC4 | classic_bike  | 2021-11-09 19:51:36 | 2021-11-09 20:11:17 | Desplaines St &amp; Kinzie St  | TA1306000003 | Desplaines St &amp; Kinzie St  | TA1306000003 | 41.88872 | -87.64445 | 41.88872 | -87.64445 | casual | 1181 | Tuesday   | 11 | 2021 |\n",
       "| 2A81E957DD24A3DC | classic_bike  | 2021-11-06 19:14:10 | 2021-11-06 19:33:19 | Larrabee St &amp; Armitage Ave | TA1309000006 | Michigan Ave &amp; Oak St      | 13042        | 41.91808 | -87.64375 | 41.90096 | -87.62378 | casual | 1149 | Saturday  | 11 | 2021 |\n",
       "| A57F8F504A01004E | electric_bike | 2021-11-18 11:58:24 | 2021-11-18 12:08:35 | Michigan Ave &amp; Oak St      | 13042        | Michigan Ave &amp; Oak St      | 13042        | 41.90114 | -87.62353 | 41.90100 | -87.62375 | casual |  611 | Thursday  | 11 | 2021 |\n",
       "\n"
      ],
      "text/plain": [
       "  ride_id          rideable_type started_at          ended_at           \n",
       "1 4CA9676997DAFFF6 classic_bike  2021-11-26 10:27:28 2021-11-26 11:22:13\n",
       "2 F3E84A230AF2D676 classic_bike  2021-11-15 09:35:03 2021-11-15 09:42:08\n",
       "3 A1F2C92308007968 electric_bike 2021-11-10 16:27:02 2021-11-10 17:04:28\n",
       "4 9B871C3B14E9BEC4 classic_bike  2021-11-09 19:51:36 2021-11-09 20:11:17\n",
       "5 2A81E957DD24A3DC classic_bike  2021-11-06 19:14:10 2021-11-06 19:33:19\n",
       "6 A57F8F504A01004E electric_bike 2021-11-18 11:58:24 2021-11-18 12:08:35\n",
       "  start_station_name         start_station_id end_station_name          \n",
       "1 Michigan Ave & Oak St      13042            Michigan Ave & Oak St     \n",
       "2 Clark St & Grace St        TA1307000127     Clark St & Leland Ave     \n",
       "3 Leamington Ave & Hirsch St 307              Leamington Ave & Hirsch St\n",
       "4 Desplaines St & Kinzie St  TA1306000003     Desplaines St & Kinzie St \n",
       "5 Larrabee St & Armitage Ave TA1309000006     Michigan Ave & Oak St     \n",
       "6 Michigan Ave & Oak St      13042            Michigan Ave & Oak St     \n",
       "  end_station_id start_lat start_lng end_lat  end_lng   member_casual\n",
       "1 13042          41.90096  -87.62378 41.90096 -87.62378 casual       \n",
       "2 TA1309000014   41.95078  -87.65917 41.96710 -87.66743 casual       \n",
       "3 307            41.91000  -87.75000 41.91000 -87.75000 casual       \n",
       "4 TA1306000003   41.88872  -87.64445 41.88872 -87.64445 casual       \n",
       "5 13042          41.91808  -87.64375 41.90096 -87.62378 casual       \n",
       "6 13042          41.90114  -87.62353 41.90100 -87.62375 casual       \n",
       "  ride_length week_day  month year\n",
       "1 3285        Friday    11    2021\n",
       "2  425        Monday    11    2021\n",
       "3 2246        Wednesday 11    2021\n",
       "4 1181        Tuesday   11    2021\n",
       "5 1149        Saturday  11    2021\n",
       "6  611        Thursday  11    2021"
      ]
     },
     "metadata": {},
     "output_type": "display_data"
    },
    {
     "name": "stdout",
     "output_type": "stream",
     "text": [
      "tibble [4,410,438 × 17] (S3: tbl_df/tbl/data.frame)\n",
      " $ ride_id           : chr [1:4410438] \"4CA9676997DAFFF6\" \"F3E84A230AF2D676\" \"A1F2C92308007968\" \"9B871C3B14E9BEC4\" ...\n",
      " $ rideable_type     : chr [1:4410438] \"classic_bike\" \"classic_bike\" \"electric_bike\" \"classic_bike\" ...\n",
      " $ started_at        : POSIXct[1:4410438], format: \"2021-11-26 10:27:28\" \"2021-11-15 09:35:03\" ...\n",
      " $ ended_at          : POSIXct[1:4410438], format: \"2021-11-26 11:22:13\" \"2021-11-15 09:42:08\" ...\n",
      " $ start_station_name: chr [1:4410438] \"Michigan Ave & Oak St\" \"Clark St & Grace St\" \"Leamington Ave & Hirsch St\" \"Desplaines St & Kinzie St\" ...\n",
      " $ start_station_id  : chr [1:4410438] \"13042\" \"TA1307000127\" \"307\" \"TA1306000003\" ...\n",
      " $ end_station_name  : chr [1:4410438] \"Michigan Ave & Oak St\" \"Clark St & Leland Ave\" \"Leamington Ave & Hirsch St\" \"Desplaines St & Kinzie St\" ...\n",
      " $ end_station_id    : chr [1:4410438] \"13042\" \"TA1309000014\" \"307\" \"TA1306000003\" ...\n",
      " $ start_lat         : num [1:4410438] 41.9 42 41.9 41.9 41.9 ...\n",
      " $ start_lng         : num [1:4410438] -87.6 -87.7 -87.8 -87.6 -87.6 ...\n",
      " $ end_lat           : num [1:4410438] 41.9 42 41.9 41.9 41.9 ...\n",
      " $ end_lng           : num [1:4410438] -87.6 -87.7 -87.8 -87.6 -87.6 ...\n",
      " $ member_casual     : chr [1:4410438] \"casual\" \"casual\" \"casual\" \"casual\" ...\n",
      " $ ride_length       : num [1:4410438] 3285 425 2246 1181 1149 ...\n",
      " $ week_day          : chr [1:4410438] \"Friday\" \"Monday\" \"Wednesday\" \"Tuesday\" ...\n",
      " $ month             : num [1:4410438] 11 11 11 11 11 11 11 11 11 11 ...\n",
      " $ year              : num [1:4410438] 2021 2021 2021 2021 2021 ...\n"
     ]
    },
    {
     "data": {
      "text/plain": [
       "   ride_id          rideable_type        started_at                 \n",
       " Length:4410438     Length:4410438     Min.   :2021-11-01 00:00:14  \n",
       " Class :character   Class :character   1st Qu.:2022-05-02 12:46:15  \n",
       " Mode  :character   Mode  :character   Median :2022-06-30 17:52:01  \n",
       "                                       Mean   :2022-06-15 05:39:32  \n",
       "                                       3rd Qu.:2022-08-24 06:56:28  \n",
       "                                       Max.   :2022-10-31 23:59:33  \n",
       "    ended_at                   start_station_name start_station_id  \n",
       " Min.   :2021-11-01 00:04:06   Length:4410438     Length:4410438    \n",
       " 1st Qu.:2022-05-02 13:00:55   Class :character   Class :character  \n",
       " Median :2022-06-30 18:08:17   Mode  :character   Mode  :character  \n",
       " Mean   :2022-06-15 05:56:47                                        \n",
       " 3rd Qu.:2022-08-24 07:06:09                                        \n",
       " Max.   :2022-11-01 08:59:46                                        \n",
       " end_station_name   end_station_id       start_lat       start_lng     \n",
       " Length:4410438     Length:4410438     Min.   :41.65   Min.   :-87.83  \n",
       " Class :character   Class :character   1st Qu.:41.88   1st Qu.:-87.66  \n",
       " Mode  :character   Mode  :character   Median :41.90   Median :-87.64  \n",
       "                                       Mean   :41.90   Mean   :-87.64  \n",
       "                                       3rd Qu.:41.93   3rd Qu.:-87.63  \n",
       "                                       Max.   :45.64   Max.   :-73.80  \n",
       "    end_lat         end_lng       member_casual       ride_length     \n",
       " Min.   :41.65   Min.   :-87.83   Length:4410438     Min.   : -10122  \n",
       " 1st Qu.:41.88   1st Qu.:-87.66   Class :character   1st Qu.:    365  \n",
       " Median :41.90   Median :-87.64   Mode  :character   Median :    640  \n",
       " Mean   :41.90   Mean   :-87.65                      Mean   :   1034  \n",
       " 3rd Qu.:41.93   3rd Qu.:-87.63                      3rd Qu.:   1147  \n",
       " Max.   :42.06   Max.   :-87.53                      Max.   :2061244  \n",
       "   week_day             month             year     \n",
       " Length:4410438     Min.   : 1.000   Min.   :2021  \n",
       " Class :character   1st Qu.: 5.000   1st Qu.:2022  \n",
       " Mode  :character   Median : 7.000   Median :2022  \n",
       "                    Mean   : 7.134   Mean   :2022  \n",
       "                    3rd Qu.: 9.000   3rd Qu.:2022  \n",
       "                    Max.   :12.000   Max.   :2022  "
      ]
     },
     "metadata": {},
     "output_type": "display_data"
    }
   ],
   "source": [
    "table(dados_ano2$member_casual)\n",
    "table(dados_ano2$week_day)\n",
    "table(dados_ano2$month)\n",
    "table(dados_ano2$year)\n",
    "\n",
    "head(dados_ano2)\n",
    "str(dados_ano2)\n",
    "summary(dados_ano2) ## Observamos que em ride_length há alguns casos com número negativo já que o min deu -10.122"
   ]
  },
  {
   "cell_type": "markdown",
   "id": "2d4105fe",
   "metadata": {
    "papermill": {
     "duration": 0.010883,
     "end_time": "2022-12-15T01:42:39.494635",
     "exception": false,
     "start_time": "2022-12-15T01:42:39.483752",
     "status": "completed"
    },
    "tags": []
   },
   "source": [
    "Tem algumas observações preenchidas em start_station_name com \"HQ QR\", isso significa que são bicicletas que foram retiradas de suas bases e foram feitas checagem de qualidade, ou seja, retiraremos da análise esses casos.\n",
    "Retiraremos os casos em que ride_length foR menor que 0."
   ]
  },
  {
   "cell_type": "code",
   "execution_count": 7,
   "id": "13a6c5a5",
   "metadata": {
    "execution": {
     "iopub.execute_input": "2022-12-15T01:42:39.519359Z",
     "iopub.status.busy": "2022-12-15T01:42:39.517980Z",
     "iopub.status.idle": "2022-12-15T01:42:43.631324Z",
     "shell.execute_reply": "2022-12-15T01:42:43.630120Z"
    },
    "papermill": {
     "duration": 4.127796,
     "end_time": "2022-12-15T01:42:43.633254",
     "exception": false,
     "start_time": "2022-12-15T01:42:39.505458",
     "status": "completed"
    },
    "tags": []
   },
   "outputs": [
    {
     "data": {
      "text/html": [
       "<table class=\"dataframe\">\n",
       "<caption>A tibble: 6 × 17</caption>\n",
       "<thead>\n",
       "\t<tr><th scope=col>ride_id</th><th scope=col>rideable_type</th><th scope=col>started_at</th><th scope=col>ended_at</th><th scope=col>start_station_name</th><th scope=col>start_station_id</th><th scope=col>end_station_name</th><th scope=col>end_station_id</th><th scope=col>start_lat</th><th scope=col>start_lng</th><th scope=col>end_lat</th><th scope=col>end_lng</th><th scope=col>member_casual</th><th scope=col>ride_length</th><th scope=col>week_day</th><th scope=col>month</th><th scope=col>year</th></tr>\n",
       "\t<tr><th scope=col>&lt;chr&gt;</th><th scope=col>&lt;chr&gt;</th><th scope=col>&lt;dttm&gt;</th><th scope=col>&lt;dttm&gt;</th><th scope=col>&lt;chr&gt;</th><th scope=col>&lt;chr&gt;</th><th scope=col>&lt;chr&gt;</th><th scope=col>&lt;chr&gt;</th><th scope=col>&lt;dbl&gt;</th><th scope=col>&lt;dbl&gt;</th><th scope=col>&lt;dbl&gt;</th><th scope=col>&lt;dbl&gt;</th><th scope=col>&lt;chr&gt;</th><th scope=col>&lt;dbl&gt;</th><th scope=col>&lt;chr&gt;</th><th scope=col>&lt;dbl&gt;</th><th scope=col>&lt;dbl&gt;</th></tr>\n",
       "</thead>\n",
       "<tbody>\n",
       "\t<tr><td>4CA9676997DAFFF6</td><td>classic_bike </td><td>2021-11-26 10:27:28</td><td>2021-11-26 11:22:13</td><td><span style=white-space:pre-wrap>Michigan Ave &amp; Oak St     </span></td><td><span style=white-space:pre-wrap>13042       </span></td><td><span style=white-space:pre-wrap>Michigan Ave &amp; Oak St     </span></td><td><span style=white-space:pre-wrap>13042       </span></td><td>41.90096</td><td>-87.62378</td><td>41.90096</td><td>-87.62378</td><td>casual</td><td>3285</td><td><span style=white-space:pre-wrap>Friday   </span></td><td>11</td><td>2021</td></tr>\n",
       "\t<tr><td>F3E84A230AF2D676</td><td>classic_bike </td><td>2021-11-15 09:35:03</td><td>2021-11-15 09:42:08</td><td><span style=white-space:pre-wrap>Clark St &amp; Grace St       </span></td><td>TA1307000127</td><td><span style=white-space:pre-wrap>Clark St &amp; Leland Ave     </span></td><td>TA1309000014</td><td>41.95078</td><td>-87.65917</td><td>41.96710</td><td>-87.66743</td><td>casual</td><td> 425</td><td><span style=white-space:pre-wrap>Monday   </span></td><td>11</td><td>2021</td></tr>\n",
       "\t<tr><td>A1F2C92308007968</td><td>electric_bike</td><td>2021-11-10 16:27:02</td><td>2021-11-10 17:04:28</td><td>Leamington Ave &amp; Hirsch St</td><td><span style=white-space:pre-wrap>307         </span></td><td>Leamington Ave &amp; Hirsch St</td><td><span style=white-space:pre-wrap>307         </span></td><td>41.91000</td><td>-87.75000</td><td>41.91000</td><td>-87.75000</td><td>casual</td><td>2246</td><td>Wednesday</td><td>11</td><td>2021</td></tr>\n",
       "\t<tr><td>9B871C3B14E9BEC4</td><td>classic_bike </td><td>2021-11-09 19:51:36</td><td>2021-11-09 20:11:17</td><td>Desplaines St &amp; Kinzie St </td><td>TA1306000003</td><td>Desplaines St &amp; Kinzie St </td><td>TA1306000003</td><td>41.88872</td><td>-87.64445</td><td>41.88872</td><td>-87.64445</td><td>casual</td><td>1181</td><td><span style=white-space:pre-wrap>Tuesday  </span></td><td>11</td><td>2021</td></tr>\n",
       "\t<tr><td>2A81E957DD24A3DC</td><td>classic_bike </td><td>2021-11-06 19:14:10</td><td>2021-11-06 19:33:19</td><td>Larrabee St &amp; Armitage Ave</td><td>TA1309000006</td><td><span style=white-space:pre-wrap>Michigan Ave &amp; Oak St     </span></td><td><span style=white-space:pre-wrap>13042       </span></td><td>41.91808</td><td>-87.64375</td><td>41.90096</td><td>-87.62378</td><td>casual</td><td>1149</td><td>Saturday </td><td>11</td><td>2021</td></tr>\n",
       "\t<tr><td>A57F8F504A01004E</td><td>electric_bike</td><td>2021-11-18 11:58:24</td><td>2021-11-18 12:08:35</td><td><span style=white-space:pre-wrap>Michigan Ave &amp; Oak St     </span></td><td><span style=white-space:pre-wrap>13042       </span></td><td><span style=white-space:pre-wrap>Michigan Ave &amp; Oak St     </span></td><td><span style=white-space:pre-wrap>13042       </span></td><td>41.90114</td><td>-87.62353</td><td>41.90100</td><td>-87.62375</td><td>casual</td><td> 611</td><td>Thursday </td><td>11</td><td>2021</td></tr>\n",
       "</tbody>\n",
       "</table>\n"
      ],
      "text/latex": [
       "A tibble: 6 × 17\n",
       "\\begin{tabular}{lllllllllllllllll}\n",
       " ride\\_id & rideable\\_type & started\\_at & ended\\_at & start\\_station\\_name & start\\_station\\_id & end\\_station\\_name & end\\_station\\_id & start\\_lat & start\\_lng & end\\_lat & end\\_lng & member\\_casual & ride\\_length & week\\_day & month & year\\\\\n",
       " <chr> & <chr> & <dttm> & <dttm> & <chr> & <chr> & <chr> & <chr> & <dbl> & <dbl> & <dbl> & <dbl> & <chr> & <dbl> & <chr> & <dbl> & <dbl>\\\\\n",
       "\\hline\n",
       "\t 4CA9676997DAFFF6 & classic\\_bike  & 2021-11-26 10:27:28 & 2021-11-26 11:22:13 & Michigan Ave \\& Oak St      & 13042        & Michigan Ave \\& Oak St      & 13042        & 41.90096 & -87.62378 & 41.90096 & -87.62378 & casual & 3285 & Friday    & 11 & 2021\\\\\n",
       "\t F3E84A230AF2D676 & classic\\_bike  & 2021-11-15 09:35:03 & 2021-11-15 09:42:08 & Clark St \\& Grace St        & TA1307000127 & Clark St \\& Leland Ave      & TA1309000014 & 41.95078 & -87.65917 & 41.96710 & -87.66743 & casual &  425 & Monday    & 11 & 2021\\\\\n",
       "\t A1F2C92308007968 & electric\\_bike & 2021-11-10 16:27:02 & 2021-11-10 17:04:28 & Leamington Ave \\& Hirsch St & 307          & Leamington Ave \\& Hirsch St & 307          & 41.91000 & -87.75000 & 41.91000 & -87.75000 & casual & 2246 & Wednesday & 11 & 2021\\\\\n",
       "\t 9B871C3B14E9BEC4 & classic\\_bike  & 2021-11-09 19:51:36 & 2021-11-09 20:11:17 & Desplaines St \\& Kinzie St  & TA1306000003 & Desplaines St \\& Kinzie St  & TA1306000003 & 41.88872 & -87.64445 & 41.88872 & -87.64445 & casual & 1181 & Tuesday   & 11 & 2021\\\\\n",
       "\t 2A81E957DD24A3DC & classic\\_bike  & 2021-11-06 19:14:10 & 2021-11-06 19:33:19 & Larrabee St \\& Armitage Ave & TA1309000006 & Michigan Ave \\& Oak St      & 13042        & 41.91808 & -87.64375 & 41.90096 & -87.62378 & casual & 1149 & Saturday  & 11 & 2021\\\\\n",
       "\t A57F8F504A01004E & electric\\_bike & 2021-11-18 11:58:24 & 2021-11-18 12:08:35 & Michigan Ave \\& Oak St      & 13042        & Michigan Ave \\& Oak St      & 13042        & 41.90114 & -87.62353 & 41.90100 & -87.62375 & casual &  611 & Thursday  & 11 & 2021\\\\\n",
       "\\end{tabular}\n"
      ],
      "text/markdown": [
       "\n",
       "A tibble: 6 × 17\n",
       "\n",
       "| ride_id &lt;chr&gt; | rideable_type &lt;chr&gt; | started_at &lt;dttm&gt; | ended_at &lt;dttm&gt; | start_station_name &lt;chr&gt; | start_station_id &lt;chr&gt; | end_station_name &lt;chr&gt; | end_station_id &lt;chr&gt; | start_lat &lt;dbl&gt; | start_lng &lt;dbl&gt; | end_lat &lt;dbl&gt; | end_lng &lt;dbl&gt; | member_casual &lt;chr&gt; | ride_length &lt;dbl&gt; | week_day &lt;chr&gt; | month &lt;dbl&gt; | year &lt;dbl&gt; |\n",
       "|---|---|---|---|---|---|---|---|---|---|---|---|---|---|---|---|---|\n",
       "| 4CA9676997DAFFF6 | classic_bike  | 2021-11-26 10:27:28 | 2021-11-26 11:22:13 | Michigan Ave &amp; Oak St      | 13042        | Michigan Ave &amp; Oak St      | 13042        | 41.90096 | -87.62378 | 41.90096 | -87.62378 | casual | 3285 | Friday    | 11 | 2021 |\n",
       "| F3E84A230AF2D676 | classic_bike  | 2021-11-15 09:35:03 | 2021-11-15 09:42:08 | Clark St &amp; Grace St        | TA1307000127 | Clark St &amp; Leland Ave      | TA1309000014 | 41.95078 | -87.65917 | 41.96710 | -87.66743 | casual |  425 | Monday    | 11 | 2021 |\n",
       "| A1F2C92308007968 | electric_bike | 2021-11-10 16:27:02 | 2021-11-10 17:04:28 | Leamington Ave &amp; Hirsch St | 307          | Leamington Ave &amp; Hirsch St | 307          | 41.91000 | -87.75000 | 41.91000 | -87.75000 | casual | 2246 | Wednesday | 11 | 2021 |\n",
       "| 9B871C3B14E9BEC4 | classic_bike  | 2021-11-09 19:51:36 | 2021-11-09 20:11:17 | Desplaines St &amp; Kinzie St  | TA1306000003 | Desplaines St &amp; Kinzie St  | TA1306000003 | 41.88872 | -87.64445 | 41.88872 | -87.64445 | casual | 1181 | Tuesday   | 11 | 2021 |\n",
       "| 2A81E957DD24A3DC | classic_bike  | 2021-11-06 19:14:10 | 2021-11-06 19:33:19 | Larrabee St &amp; Armitage Ave | TA1309000006 | Michigan Ave &amp; Oak St      | 13042        | 41.91808 | -87.64375 | 41.90096 | -87.62378 | casual | 1149 | Saturday  | 11 | 2021 |\n",
       "| A57F8F504A01004E | electric_bike | 2021-11-18 11:58:24 | 2021-11-18 12:08:35 | Michigan Ave &amp; Oak St      | 13042        | Michigan Ave &amp; Oak St      | 13042        | 41.90114 | -87.62353 | 41.90100 | -87.62375 | casual |  611 | Thursday  | 11 | 2021 |\n",
       "\n"
      ],
      "text/plain": [
       "  ride_id          rideable_type started_at          ended_at           \n",
       "1 4CA9676997DAFFF6 classic_bike  2021-11-26 10:27:28 2021-11-26 11:22:13\n",
       "2 F3E84A230AF2D676 classic_bike  2021-11-15 09:35:03 2021-11-15 09:42:08\n",
       "3 A1F2C92308007968 electric_bike 2021-11-10 16:27:02 2021-11-10 17:04:28\n",
       "4 9B871C3B14E9BEC4 classic_bike  2021-11-09 19:51:36 2021-11-09 20:11:17\n",
       "5 2A81E957DD24A3DC classic_bike  2021-11-06 19:14:10 2021-11-06 19:33:19\n",
       "6 A57F8F504A01004E electric_bike 2021-11-18 11:58:24 2021-11-18 12:08:35\n",
       "  start_station_name         start_station_id end_station_name          \n",
       "1 Michigan Ave & Oak St      13042            Michigan Ave & Oak St     \n",
       "2 Clark St & Grace St        TA1307000127     Clark St & Leland Ave     \n",
       "3 Leamington Ave & Hirsch St 307              Leamington Ave & Hirsch St\n",
       "4 Desplaines St & Kinzie St  TA1306000003     Desplaines St & Kinzie St \n",
       "5 Larrabee St & Armitage Ave TA1309000006     Michigan Ave & Oak St     \n",
       "6 Michigan Ave & Oak St      13042            Michigan Ave & Oak St     \n",
       "  end_station_id start_lat start_lng end_lat  end_lng   member_casual\n",
       "1 13042          41.90096  -87.62378 41.90096 -87.62378 casual       \n",
       "2 TA1309000014   41.95078  -87.65917 41.96710 -87.66743 casual       \n",
       "3 307            41.91000  -87.75000 41.91000 -87.75000 casual       \n",
       "4 TA1306000003   41.88872  -87.64445 41.88872 -87.64445 casual       \n",
       "5 13042          41.91808  -87.64375 41.90096 -87.62378 casual       \n",
       "6 13042          41.90114  -87.62353 41.90100 -87.62375 casual       \n",
       "  ride_length week_day  month year\n",
       "1 3285        Friday    11    2021\n",
       "2  425        Monday    11    2021\n",
       "3 2246        Wednesday 11    2021\n",
       "4 1181        Tuesday   11    2021\n",
       "5 1149        Saturday  11    2021\n",
       "6  611        Thursday  11    2021"
      ]
     },
     "metadata": {},
     "output_type": "display_data"
    },
    {
     "data": {
      "text/plain": [
       "   ride_id          rideable_type        started_at                 \n",
       " Length:4410143     Length:4410143     Min.   :2021-11-01 00:00:14  \n",
       " Class :character   Class :character   1st Qu.:2022-05-02 12:45:48  \n",
       " Mode  :character   Mode  :character   Median :2022-06-30 17:51:40  \n",
       "                                       Mean   :2022-06-15 05:39:44  \n",
       "                                       3rd Qu.:2022-08-24 06:56:08  \n",
       "                                       Max.   :2022-10-31 23:59:33  \n",
       "    ended_at                   start_station_name start_station_id  \n",
       " Min.   :2021-11-01 00:04:06   Length:4410143     Length:4410143    \n",
       " 1st Qu.:2022-05-02 13:00:28   Class :character   Class :character  \n",
       " Median :2022-06-30 18:07:50   Mode  :character   Mode  :character  \n",
       " Mean   :2022-06-15 05:56:59                                        \n",
       " 3rd Qu.:2022-08-24 07:05:47                                        \n",
       " Max.   :2022-11-01 08:59:46                                        \n",
       " end_station_name   end_station_id       start_lat       start_lng     \n",
       " Length:4410143     Length:4410143     Min.   :41.65   Min.   :-87.83  \n",
       " Class :character   Class :character   1st Qu.:41.88   1st Qu.:-87.66  \n",
       " Mode  :character   Mode  :character   Median :41.90   Median :-87.64  \n",
       "                                       Mean   :41.90   Mean   :-87.64  \n",
       "                                       3rd Qu.:41.93   3rd Qu.:-87.63  \n",
       "                                       Max.   :45.64   Max.   :-73.80  \n",
       "    end_lat         end_lng       member_casual       ride_length     \n",
       " Min.   :41.65   Min.   :-87.83   Length:4410143     Min.   :      1  \n",
       " 1st Qu.:41.88   1st Qu.:-87.66   Class :character   1st Qu.:    365  \n",
       " Median :41.90   Median :-87.64   Mode  :character   Median :    640  \n",
       " Mean   :41.90   Mean   :-87.65                      Mean   :   1035  \n",
       " 3rd Qu.:41.93   3rd Qu.:-87.63                      3rd Qu.:   1147  \n",
       " Max.   :42.06   Max.   :-87.53                      Max.   :2061244  \n",
       "   week_day             month             year     \n",
       " Length:4410143     Min.   : 1.000   Min.   :2021  \n",
       " Class :character   1st Qu.: 5.000   1st Qu.:2022  \n",
       " Mode  :character   Median : 7.000   Median :2022  \n",
       "                    Mean   : 7.134   Mean   :2022  \n",
       "                    3rd Qu.: 9.000   3rd Qu.:2022  \n",
       "                    Max.   :12.000   Max.   :2022  "
      ]
     },
     "metadata": {},
     "output_type": "display_data"
    }
   ],
   "source": [
    "dados_ano3 <- subset(dados_ano2, start_station_name != \"HQ QR\" & ride_length > 0)\n",
    "head(dados_ano3)\n",
    "summary(dados_ano3)"
   ]
  },
  {
   "cell_type": "markdown",
   "id": "04587717",
   "metadata": {
    "papermill": {
     "duration": 0.010768,
     "end_time": "2022-12-15T01:42:43.654744",
     "exception": false,
     "start_time": "2022-12-15T01:42:43.643976",
     "status": "completed"
    },
    "tags": []
   },
   "source": [
    "Abaixo utilizei a função aggregate para gerar a informação de algumas estatísticas por algumas variáveis.\n",
    "Por exemplo, no primeiro código, geramos a média de ride_length por member_casual. Ou seja, conseguimos saber o tempo médio de corrida de quem é membro e de quem é casual."
   ]
  },
  {
   "cell_type": "code",
   "execution_count": 8,
   "id": "769137a7",
   "metadata": {
    "execution": {
     "iopub.execute_input": "2022-12-15T01:42:43.679355Z",
     "iopub.status.busy": "2022-12-15T01:42:43.678019Z",
     "iopub.status.idle": "2022-12-15T01:42:52.810816Z",
     "shell.execute_reply": "2022-12-15T01:42:52.809507Z"
    },
    "papermill": {
     "duration": 9.14733,
     "end_time": "2022-12-15T01:42:52.812837",
     "exception": false,
     "start_time": "2022-12-15T01:42:43.665507",
     "status": "completed"
    },
    "tags": []
   },
   "outputs": [
    {
     "data": {
      "text/html": [
       "<table class=\"dataframe\">\n",
       "<caption>A data.frame: 2 × 2</caption>\n",
       "<thead>\n",
       "\t<tr><th scope=col>dados_ano3$member_casual</th><th scope=col>dados_ano3$ride_length</th></tr>\n",
       "\t<tr><th scope=col>&lt;chr&gt;</th><th scope=col>&lt;dbl&gt;</th></tr>\n",
       "</thead>\n",
       "<tbody>\n",
       "\t<tr><td>casual</td><td>1464.0021</td></tr>\n",
       "\t<tr><td>member</td><td> 747.2626</td></tr>\n",
       "</tbody>\n",
       "</table>\n"
      ],
      "text/latex": [
       "A data.frame: 2 × 2\n",
       "\\begin{tabular}{ll}\n",
       " dados\\_ano3\\$member\\_casual & dados\\_ano3\\$ride\\_length\\\\\n",
       " <chr> & <dbl>\\\\\n",
       "\\hline\n",
       "\t casual & 1464.0021\\\\\n",
       "\t member &  747.2626\\\\\n",
       "\\end{tabular}\n"
      ],
      "text/markdown": [
       "\n",
       "A data.frame: 2 × 2\n",
       "\n",
       "| dados_ano3$member_casual &lt;chr&gt; | dados_ano3$ride_length &lt;dbl&gt; |\n",
       "|---|---|\n",
       "| casual | 1464.0021 |\n",
       "| member |  747.2626 |\n",
       "\n"
      ],
      "text/plain": [
       "  dados_ano3$member_casual dados_ano3$ride_length\n",
       "1 casual                   1464.0021             \n",
       "2 member                    747.2626             "
      ]
     },
     "metadata": {},
     "output_type": "display_data"
    },
    {
     "data": {
      "text/html": [
       "<table class=\"dataframe\">\n",
       "<caption>A data.frame: 2 × 2</caption>\n",
       "<thead>\n",
       "\t<tr><th scope=col>dados_ano3$member_casual</th><th scope=col>dados_ano3$ride_length</th></tr>\n",
       "\t<tr><th scope=col>&lt;chr&gt;</th><th scope=col>&lt;dbl&gt;</th></tr>\n",
       "</thead>\n",
       "<tbody>\n",
       "\t<tr><td>casual</td><td>841</td></tr>\n",
       "\t<tr><td>member</td><td>540</td></tr>\n",
       "</tbody>\n",
       "</table>\n"
      ],
      "text/latex": [
       "A data.frame: 2 × 2\n",
       "\\begin{tabular}{ll}\n",
       " dados\\_ano3\\$member\\_casual & dados\\_ano3\\$ride\\_length\\\\\n",
       " <chr> & <dbl>\\\\\n",
       "\\hline\n",
       "\t casual & 841\\\\\n",
       "\t member & 540\\\\\n",
       "\\end{tabular}\n"
      ],
      "text/markdown": [
       "\n",
       "A data.frame: 2 × 2\n",
       "\n",
       "| dados_ano3$member_casual &lt;chr&gt; | dados_ano3$ride_length &lt;dbl&gt; |\n",
       "|---|---|\n",
       "| casual | 841 |\n",
       "| member | 540 |\n",
       "\n"
      ],
      "text/plain": [
       "  dados_ano3$member_casual dados_ano3$ride_length\n",
       "1 casual                   841                   \n",
       "2 member                   540                   "
      ]
     },
     "metadata": {},
     "output_type": "display_data"
    },
    {
     "data": {
      "text/html": [
       "<table class=\"dataframe\">\n",
       "<caption>A data.frame: 2 × 2</caption>\n",
       "<thead>\n",
       "\t<tr><th scope=col>dados_ano3$member_casual</th><th scope=col>dados_ano3$ride_length</th></tr>\n",
       "\t<tr><th scope=col>&lt;chr&gt;</th><th scope=col>&lt;dbl&gt;</th></tr>\n",
       "</thead>\n",
       "<tbody>\n",
       "\t<tr><td>casual</td><td>2061244</td></tr>\n",
       "\t<tr><td>member</td><td>  89575</td></tr>\n",
       "</tbody>\n",
       "</table>\n"
      ],
      "text/latex": [
       "A data.frame: 2 × 2\n",
       "\\begin{tabular}{ll}\n",
       " dados\\_ano3\\$member\\_casual & dados\\_ano3\\$ride\\_length\\\\\n",
       " <chr> & <dbl>\\\\\n",
       "\\hline\n",
       "\t casual & 2061244\\\\\n",
       "\t member &   89575\\\\\n",
       "\\end{tabular}\n"
      ],
      "text/markdown": [
       "\n",
       "A data.frame: 2 × 2\n",
       "\n",
       "| dados_ano3$member_casual &lt;chr&gt; | dados_ano3$ride_length &lt;dbl&gt; |\n",
       "|---|---|\n",
       "| casual | 2061244 |\n",
       "| member |   89575 |\n",
       "\n"
      ],
      "text/plain": [
       "  dados_ano3$member_casual dados_ano3$ride_length\n",
       "1 casual                   2061244               \n",
       "2 member                     89575               "
      ]
     },
     "metadata": {},
     "output_type": "display_data"
    },
    {
     "data": {
      "text/html": [
       "<table class=\"dataframe\">\n",
       "<caption>A data.frame: 2 × 2</caption>\n",
       "<thead>\n",
       "\t<tr><th scope=col>dados_ano3$member_casual</th><th scope=col>dados_ano3$ride_length</th></tr>\n",
       "\t<tr><th scope=col>&lt;chr&gt;</th><th scope=col>&lt;dbl&gt;</th></tr>\n",
       "</thead>\n",
       "<tbody>\n",
       "\t<tr><td>casual</td><td>1</td></tr>\n",
       "\t<tr><td>member</td><td>1</td></tr>\n",
       "</tbody>\n",
       "</table>\n"
      ],
      "text/latex": [
       "A data.frame: 2 × 2\n",
       "\\begin{tabular}{ll}\n",
       " dados\\_ano3\\$member\\_casual & dados\\_ano3\\$ride\\_length\\\\\n",
       " <chr> & <dbl>\\\\\n",
       "\\hline\n",
       "\t casual & 1\\\\\n",
       "\t member & 1\\\\\n",
       "\\end{tabular}\n"
      ],
      "text/markdown": [
       "\n",
       "A data.frame: 2 × 2\n",
       "\n",
       "| dados_ano3$member_casual &lt;chr&gt; | dados_ano3$ride_length &lt;dbl&gt; |\n",
       "|---|---|\n",
       "| casual | 1 |\n",
       "| member | 1 |\n",
       "\n"
      ],
      "text/plain": [
       "  dados_ano3$member_casual dados_ano3$ride_length\n",
       "1 casual                   1                     \n",
       "2 member                   1                     "
      ]
     },
     "metadata": {},
     "output_type": "display_data"
    }
   ],
   "source": [
    "aggregate(dados_ano3$ride_length ~ dados_ano3$member_casual, FUN = mean)\n",
    "aggregate(dados_ano3$ride_length ~ dados_ano3$member_casual, FUN = median)\n",
    "aggregate(dados_ano3$ride_length ~ dados_ano3$member_casual, FUN = max)\n",
    "aggregate(dados_ano3$ride_length ~ dados_ano3$member_casual, FUN = min)"
   ]
  },
  {
   "cell_type": "markdown",
   "id": "fdeb15c0",
   "metadata": {
    "papermill": {
     "duration": 0.011725,
     "end_time": "2022-12-15T01:42:52.837780",
     "exception": false,
     "start_time": "2022-12-15T01:42:52.826055",
     "status": "completed"
    },
    "tags": []
   },
   "source": [
    "Abaixo criamos alguns gráficos de coluna para visualizar algumas métricas como número de passeios e média de tempo de passeio por variáveis como member_casual, week_day e rideable_type."
   ]
  },
  {
   "cell_type": "code",
   "execution_count": 9,
   "id": "8fd0b1e7",
   "metadata": {
    "execution": {
     "iopub.execute_input": "2022-12-15T01:42:52.863670Z",
     "iopub.status.busy": "2022-12-15T01:42:52.862365Z",
     "iopub.status.idle": "2022-12-15T01:42:55.082900Z",
     "shell.execute_reply": "2022-12-15T01:42:55.081643Z"
    },
    "papermill": {
     "duration": 2.235664,
     "end_time": "2022-12-15T01:42:55.084856",
     "exception": false,
     "start_time": "2022-12-15T01:42:52.849192",
     "status": "completed"
    },
    "tags": []
   },
   "outputs": [
    {
     "name": "stderr",
     "output_type": "stream",
     "text": [
      "\u001b[1m\u001b[22m`summarise()` has grouped output by 'member_casual'. You can override using the\n",
      "`.groups` argument.\n",
      "\u001b[1m\u001b[22m`summarise()` has grouped output by 'member_casual'. You can override using the\n",
      "`.groups` argument.\n"
     ]
    },
    {
     "data": {
      "image/png": "[encoded data removed]"
     },
     "metadata": {
      "image/png": {
       "height": 420,
       "width": 420
      }
     },
     "output_type": "display_data"
    },
    {
     "name": "stderr",
     "output_type": "stream",
     "text": [
      "\u001b[1m\u001b[22m`summarise()` has grouped output by 'member_casual'. You can override using the\n",
      "`.groups` argument.\n"
     ]
    },
    {
     "data": {
      "image/png": "[encoded data removed]"
     },
     "metadata": {
      "image/png": {
       "height": 420,
       "width": 420
      }
     },
     "output_type": "display_data"
    },
    {
     "data": {
      "image/png": "[encoded data removed]"
     },
     "metadata": {
      "image/png": {
       "height": 420,
       "width": 420
      }
     },
     "output_type": "display_data"
    }
   ],
   "source": [
    "dados_ano3 %>% \n",
    "  group_by(member_casual, week_day) %>% \n",
    "  summarise(number_of_rides = n()) %>% \n",
    "  arrange(member_casual, week_day)  %>% \n",
    "  ggplot(aes(x = week_day, y = number_of_rides, fill = member_casual)) + geom_col(position = \"dodge\") + theme_classic() + labs(title = \"Nº de passeios por dia da semana e por tipo de usuário\",\n",
    "                                                                                                                               subtitle = \"Nov/21 - Out/22\", x = \"Dia da Semana\", y = \"Nº de passeios\")\n",
    "\n",
    "dados_ano3 %>% \n",
    "  group_by(member_casual, week_day) %>% \n",
    "  summarise(average_duration = mean(ride_length)) %>% \n",
    "  arrange(member_casual, week_day)  %>% \n",
    "  ggplot(aes(x = week_day, y = average_duration, fill = member_casual)) + geom_col(position = \"dodge\") + theme_classic() + labs(title = \"Média de tempo por passeio por dia da semana e por tipo de usuário\",\n",
    "                                                                                                                                subtitle = \"Nov/21 - Out/22\", x = \"Dia da Semana\", y = \"Média de tempo (segundos)\")\n",
    "\n",
    "dados_ano3 %>%\n",
    "    group_by(member_casual, rideable_type) %>%\n",
    "    summarise(number_of_rides = n()) %>%\n",
    "    arrange(member_casual, rideable_type) %>%\n",
    "    ggplot(aes(x = rideable_type, y = number_of_rides, fill = member_casual)) + geom_col(position = \"dodge\") + theme_classic() + labs(title = \"Nº de passeios por tipo de bicicleta e por tipo de usuário\",\n",
    "                                                                                                                                      subtitle = \"Nov/21 - Out/22\", x = \"Tipo de bicicleta\", y = \"Nº de passeios\")"
   ]
  },
  {
   "cell_type": "markdown",
   "id": "2bf8750b",
   "metadata": {
    "papermill": {
     "duration": 0.013281,
     "end_time": "2022-12-15T01:42:55.112365",
     "exception": false,
     "start_time": "2022-12-15T01:42:55.099084",
     "status": "completed"
    },
    "tags": []
   },
   "source": [
    "Fazendo o boxplot abaixo para avaliar o tempo de corrida, observamos que para as pessoas que são casuais, há bastante outlier. Quando fizemos o summary anteriormente, observamos que o valor mínimo é 1, média é 1.035 e o máximo é 2.061.244. Quando se trata de quem é membro, ainda encontramos outliers, porém não com casos discrepantes como em quem é casual."
   ]
  },
  {
   "cell_type": "code",
   "execution_count": 10,
   "id": "465b6359",
   "metadata": {
    "execution": {
     "iopub.execute_input": "2022-12-15T01:42:55.143423Z",
     "iopub.status.busy": "2022-12-15T01:42:55.141988Z",
     "iopub.status.idle": "2022-12-15T01:43:08.375921Z",
     "shell.execute_reply": "2022-12-15T01:43:08.373926Z"
    },
    "papermill": {
     "duration": 13.251793,
     "end_time": "2022-12-15T01:43:08.378823",
     "exception": false,
     "start_time": "2022-12-15T01:42:55.127030",
     "status": "completed"
    },
    "tags": []
   },
   "outputs": [
    {
     "data": {
      "image/png": "[encoded data removed]"
     },
     "metadata": {
      "image/png": {
       "height": 420,
       "width": 420
      }
     },
     "output_type": "display_data"
    }
   ],
   "source": [
    "ggplot(dados_ano3, aes(x=member_casual, y=ride_length)) + geom_boxplot(outlier.color=\"red\") + theme_classic()"
   ]
  },
  {
   "cell_type": "markdown",
   "id": "32bfa49f",
   "metadata": {
    "papermill": {
     "duration": 0.013338,
     "end_time": "2022-12-15T01:43:08.405723",
     "exception": false,
     "start_time": "2022-12-15T01:43:08.392385",
     "status": "completed"
    },
    "tags": []
   },
   "source": [
    "Para continuar a análise, resolvi retirar os outliers da base.\n",
    "Normalmente o cálculo do outlier é feito considerando 1.5, porém para esse estudo considerei 3 para retirar os casos bem extremos"
   ]
  },
  {
   "cell_type": "code",
   "execution_count": 11,
   "id": "b95f1cc5",
   "metadata": {
    "execution": {
     "iopub.execute_input": "2022-12-15T01:43:08.435269Z",
     "iopub.status.busy": "2022-12-15T01:43:08.433970Z",
     "iopub.status.idle": "2022-12-15T01:43:08.775493Z",
     "shell.execute_reply": "2022-12-15T01:43:08.773909Z"
    },
    "papermill": {
     "duration": 0.358734,
     "end_time": "2022-12-15T01:43:08.777752",
     "exception": false,
     "start_time": "2022-12-15T01:43:08.419018",
     "status": "completed"
    },
    "tags": []
   },
   "outputs": [],
   "source": [
    "Interquartil <- (1147-365)*3\n",
    "Limite_superior <- 1147 + Interquartil\n",
    "Limite_inferior <- 365 - Interquartil\n",
    "\n",
    "dados_ano4 <- filter(dados_ano3, ride_length <= Limite_superior & ride_length >= Limite_inferior)"
   ]
  },
  {
   "cell_type": "markdown",
   "id": "8b074471",
   "metadata": {
    "papermill": {
     "duration": 0.013361,
     "end_time": "2022-12-15T01:43:08.804221",
     "exception": false,
     "start_time": "2022-12-15T01:43:08.790860",
     "status": "completed"
    },
    "tags": []
   },
   "source": [
    "Para efeito de comparação, farei os gráficos de barra anteriores novamente, porém considerando a retirada dos outliers para avaliar se há mudança de comportamento."
   ]
  },
  {
   "cell_type": "code",
   "execution_count": 12,
   "id": "02870de6",
   "metadata": {
    "execution": {
     "iopub.execute_input": "2022-12-15T01:43:08.832911Z",
     "iopub.status.busy": "2022-12-15T01:43:08.831629Z",
     "iopub.status.idle": "2022-12-15T01:43:10.416055Z",
     "shell.execute_reply": "2022-12-15T01:43:10.413911Z"
    },
    "papermill": {
     "duration": 1.602238,
     "end_time": "2022-12-15T01:43:10.419330",
     "exception": false,
     "start_time": "2022-12-15T01:43:08.817092",
     "status": "completed"
    },
    "tags": []
   },
   "outputs": [
    {
     "name": "stderr",
     "output_type": "stream",
     "text": [
      "\u001b[1m\u001b[22m`summarise()` has grouped output by 'member_casual'. You can override using the\n",
      "`.groups` argument.\n",
      "\u001b[1m\u001b[22m`summarise()` has grouped output by 'member_casual'. You can override using the\n",
      "`.groups` argument.\n"
     ]
    },
    {
     "data": {
      "image/png": "[encoded data removed]"
     },
     "metadata": {
      "image/png": {
       "height": 420,
       "width": 420
      }
     },
     "output_type": "display_data"
    },
    {
     "name": "stderr",
     "output_type": "stream",
     "text": [
      "\u001b[1m\u001b[22m`summarise()` has grouped output by 'member_casual'. You can override using the\n",
      "`.groups` argument.\n"
     ]
    },
    {
     "data": {
      "image/png": "[encoded data removed]"
     },
     "metadata": {
      "image/png": {
       "height": 420,
       "width": 420
      }
     },
     "output_type": "display_data"
    },
    {
     "data": {
      "image/png": "[encoded data removed]"
     },
     "metadata": {
      "image/png": {
       "height": 420,
       "width": 420
      }
     },
     "output_type": "display_data"
    }
   ],
   "source": [
    "dados_ano4 %>% \n",
    "  group_by(member_casual, week_day) %>% \n",
    "  summarise(number_of_rides = n()) %>% \n",
    "  arrange(member_casual, week_day)  %>% \n",
    "  ggplot(aes(x = week_day, y = number_of_rides, fill = member_casual)) + geom_col(position = \"dodge\") + theme_classic() + labs(title = \"Nº de passeios por dia da semana e por tipo de usuário\",\n",
    "                                                                                                                               subtitle = \"Nov/21 - Out/22\", x = \"Dia da Semana\", y = \"Nº de passeios\")\n",
    "\n",
    "dados_ano4 %>% \n",
    "  group_by(member_casual, week_day) %>% \n",
    "  summarise(average_duration = mean(ride_length)) %>% \n",
    "  arrange(member_casual, week_day)  %>% \n",
    "  ggplot(aes(x = week_day, y = average_duration, fill = member_casual)) + geom_col(position = \"dodge\") + theme_classic() + labs(title = \"Média de tempo por passeio por dia da semana e por tipo de usuário\",\n",
    "                                                                                                                                subtitle = \"Nov/21 - Out/22\", x = \"Dia da Semana\", y = \"Média de tempo (segundos)\")\n",
    "\n",
    "dados_ano4 %>%\n",
    "  group_by(member_casual, rideable_type) %>%\n",
    "  summarise(number_of_rides = n()) %>%\n",
    "  arrange(member_casual, rideable_type) %>%\n",
    "  ggplot(aes(x = rideable_type, y = number_of_rides, fill = member_casual)) + geom_col(position = \"dodge\") + theme_classic() + labs(title = \"Nº de passeios por tipo de bicicleta e por tipo de usuário\",\n",
    "                                                                                                                                    subtitle = \"Nov/21 - Out/22\", x = \"Tipo de bicicleta\", y = \"Nº de passeios\")"
   ]
  },
  {
   "cell_type": "markdown",
   "id": "3da30664",
   "metadata": {
    "papermill": {
     "duration": 0.015994,
     "end_time": "2022-12-15T01:43:10.450938",
     "exception": false,
     "start_time": "2022-12-15T01:43:10.434944",
     "status": "completed"
    },
    "tags": []
   },
   "source": [
    "Não foram observadas grandes diferenças de comportamento. Apenas no sábado e domingo em relação ao número de passeios, onde antes de retirar os outliers, encontrávamos um resultado em que haviam mais pessoas casuais do que membros. Quando retiramos os outliers da base, nesses dois dias passamos a encontrar mais membros do que casual.\n",
    "\n",
    "No boxplot abaixo ainda encontraremos alguns outliers, pois como falei, utilizei o multiplicador 3 ao invés de 1.5"
   ]
  },
  {
   "cell_type": "code",
   "execution_count": 13,
   "id": "cf728e37",
   "metadata": {
    "execution": {
     "iopub.execute_input": "2022-12-15T01:43:10.485685Z",
     "iopub.status.busy": "2022-12-15T01:43:10.484383Z",
     "iopub.status.idle": "2022-12-15T01:43:20.983046Z",
     "shell.execute_reply": "2022-12-15T01:43:20.981585Z"
    },
    "papermill": {
     "duration": 10.518159,
     "end_time": "2022-12-15T01:43:20.984949",
     "exception": false,
     "start_time": "2022-12-15T01:43:10.466790",
     "status": "completed"
    },
    "tags": []
   },
   "outputs": [
    {
     "data": {
      "image/png": "[encoded data removed]"
     },
     "metadata": {
      "image/png": {
       "height": 420,
       "width": 420
      }
     },
     "output_type": "display_data"
    }
   ],
   "source": [
    "ggplot(dados_ano4, aes(x=member_casual, y=ride_length)) + geom_boxplot(outlier.color=\"red\") + theme_classic()"
   ]
  },
  {
   "cell_type": "markdown",
   "id": "d77219dd",
   "metadata": {
    "papermill": {
     "duration": 0.01559,
     "end_time": "2022-12-15T01:43:21.016009",
     "exception": false,
     "start_time": "2022-12-15T01:43:21.000419",
     "status": "completed"
    },
    "tags": []
   },
   "source": [
    "## Regressão logística Binomial\n",
    "\n",
    "Nos códigos abaixo, tento avaliar a relação de algumas variáveis com o fato de alguém ser membro ou casual. Isso poderia ser interessante para saber se uma pessoa tem potencial para se tornar membro a partir de determinadas variáveis. As variáveis utilizadas como dependentes foram, rideable_type, ride_length, week_day e month. Ou seja, poderíamos saber se algum tipo de bicicleta tem mais chance de explicar se alguém é membro ou casual, o tempo de passeio também poderia indicar se caso uma pessoa utilize por bastante tempo se ela teria potencial de se tornar membro ou o contrário.\n",
    "Na sequência de códigos abaixo, primeiramente transformei essas variáveis em fator para poder utilizar a regressão logística. Depois utilizei \"levels\" para identificar quais eram as categorias de referência de cada variável e por fim criei os modelos e fiz o summary de cada um. "
   ]
  },
  {
   "cell_type": "code",
   "execution_count": 14,
   "id": "9dc41636",
   "metadata": {
    "execution": {
     "iopub.execute_input": "2022-12-15T01:43:21.050761Z",
     "iopub.status.busy": "2022-12-15T01:43:21.049289Z",
     "iopub.status.idle": "2022-12-15T01:46:05.465354Z",
     "shell.execute_reply": "2022-12-15T01:46:05.464047Z"
    },
    "papermill": {
     "duration": 164.43559,
     "end_time": "2022-12-15T01:46:05.467312",
     "exception": false,
     "start_time": "2022-12-15T01:43:21.031722",
     "status": "completed"
    },
    "tags": []
   },
   "outputs": [
    {
     "name": "stdout",
     "output_type": "stream",
     "text": [
      "tibble [4,256,557 × 17] (S3: tbl_df/tbl/data.frame)\n",
      " $ ride_id           : chr [1:4256557] \"4CA9676997DAFFF6\" \"F3E84A230AF2D676\" \"A1F2C92308007968\" \"9B871C3B14E9BEC4\" ...\n",
      " $ rideable_type     : Factor w/ 3 levels \"classic_bike\",..: 1 1 3 1 1 3 3 3 3 3 ...\n",
      " $ started_at        : POSIXct[1:4256557], format: \"2021-11-26 10:27:28\" \"2021-11-15 09:35:03\" ...\n",
      " $ ended_at          : POSIXct[1:4256557], format: \"2021-11-26 11:22:13\" \"2021-11-15 09:42:08\" ...\n",
      " $ start_station_name: chr [1:4256557] \"Michigan Ave & Oak St\" \"Clark St & Grace St\" \"Leamington Ave & Hirsch St\" \"Desplaines St & Kinzie St\" ...\n",
      " $ start_station_id  : chr [1:4256557] \"13042\" \"TA1307000127\" \"307\" \"TA1306000003\" ...\n",
      " $ end_station_name  : chr [1:4256557] \"Michigan Ave & Oak St\" \"Clark St & Leland Ave\" \"Leamington Ave & Hirsch St\" \"Desplaines St & Kinzie St\" ...\n",
      " $ end_station_id    : chr [1:4256557] \"13042\" \"TA1309000014\" \"307\" \"TA1306000003\" ...\n",
      " $ start_lat         : num [1:4256557] 41.9 42 41.9 41.9 41.9 ...\n",
      " $ start_lng         : num [1:4256557] -87.6 -87.7 -87.8 -87.6 -87.6 ...\n",
      " $ end_lat           : num [1:4256557] 41.9 42 41.9 41.9 41.9 ...\n",
      " $ end_lng           : num [1:4256557] -87.6 -87.7 -87.8 -87.6 -87.6 ...\n",
      " $ member_casual     : Factor w/ 2 levels \"casual\",\"member\": 1 1 1 1 1 1 1 2 2 2 ...\n",
      " $ ride_length       : num [1:4256557] 3285 425 2246 1181 1149 ...\n",
      " $ week_day          : Factor w/ 7 levels \"Friday\",\"Monday\",..: 1 2 7 6 3 5 6 1 5 4 ...\n",
      " $ month             : Factor w/ 12 levels \"1\",\"2\",\"3\",\"4\",..: 11 11 11 11 11 11 11 11 11 11 ...\n",
      " $ year              : num [1:4256557] 2021 2021 2021 2021 2021 ...\n"
     ]
    },
    {
     "data": {
      "text/html": [
       "<style>\n",
       ".list-inline {list-style: none; margin:0; padding: 0}\n",
       ".list-inline>li {display: inline-block}\n",
       ".list-inline>li:not(:last-child)::after {content: \"\\00b7\"; padding: 0 .5ex}\n",
       "</style>\n",
       "<ol class=list-inline><li>'casual'</li><li>'member'</li></ol>\n"
      ],
      "text/latex": [
       "\\begin{enumerate*}\n",
       "\\item 'casual'\n",
       "\\item 'member'\n",
       "\\end{enumerate*}\n"
      ],
      "text/markdown": [
       "1. 'casual'\n",
       "2. 'member'\n",
       "\n",
       "\n"
      ],
      "text/plain": [
       "[1] \"casual\" \"member\""
      ]
     },
     "metadata": {},
     "output_type": "display_data"
    },
    {
     "data": {
      "text/html": [
       "<style>\n",
       ".list-inline {list-style: none; margin:0; padding: 0}\n",
       ".list-inline>li {display: inline-block}\n",
       ".list-inline>li:not(:last-child)::after {content: \"\\00b7\"; padding: 0 .5ex}\n",
       "</style>\n",
       "<ol class=list-inline><li>'classic_bike'</li><li>'docked_bike'</li><li>'electric_bike'</li></ol>\n"
      ],
      "text/latex": [
       "\\begin{enumerate*}\n",
       "\\item 'classic\\_bike'\n",
       "\\item 'docked\\_bike'\n",
       "\\item 'electric\\_bike'\n",
       "\\end{enumerate*}\n"
      ],
      "text/markdown": [
       "1. 'classic_bike'\n",
       "2. 'docked_bike'\n",
       "3. 'electric_bike'\n",
       "\n",
       "\n"
      ],
      "text/plain": [
       "[1] \"classic_bike\"  \"docked_bike\"   \"electric_bike\""
      ]
     },
     "metadata": {},
     "output_type": "display_data"
    },
    {
     "data": {
      "text/html": [
       "<style>\n",
       ".list-inline {list-style: none; margin:0; padding: 0}\n",
       ".list-inline>li {display: inline-block}\n",
       ".list-inline>li:not(:last-child)::after {content: \"\\00b7\"; padding: 0 .5ex}\n",
       "</style>\n",
       "<ol class=list-inline><li>'Friday'</li><li>'Monday'</li><li>'Saturday'</li><li>'Sunday'</li><li>'Thursday'</li><li>'Tuesday'</li><li>'Wednesday'</li></ol>\n"
      ],
      "text/latex": [
       "\\begin{enumerate*}\n",
       "\\item 'Friday'\n",
       "\\item 'Monday'\n",
       "\\item 'Saturday'\n",
       "\\item 'Sunday'\n",
       "\\item 'Thursday'\n",
       "\\item 'Tuesday'\n",
       "\\item 'Wednesday'\n",
       "\\end{enumerate*}\n"
      ],
      "text/markdown": [
       "1. 'Friday'\n",
       "2. 'Monday'\n",
       "3. 'Saturday'\n",
       "4. 'Sunday'\n",
       "5. 'Thursday'\n",
       "6. 'Tuesday'\n",
       "7. 'Wednesday'\n",
       "\n",
       "\n"
      ],
      "text/plain": [
       "[1] \"Friday\"    \"Monday\"    \"Saturday\"  \"Sunday\"    \"Thursday\"  \"Tuesday\"  \n",
       "[7] \"Wednesday\""
      ]
     },
     "metadata": {},
     "output_type": "display_data"
    },
    {
     "data": {
      "text/html": [
       "<style>\n",
       ".list-inline {list-style: none; margin:0; padding: 0}\n",
       ".list-inline>li {display: inline-block}\n",
       ".list-inline>li:not(:last-child)::after {content: \"\\00b7\"; padding: 0 .5ex}\n",
       "</style>\n",
       "<ol class=list-inline><li>'1'</li><li>'2'</li><li>'3'</li><li>'4'</li><li>'5'</li><li>'6'</li><li>'7'</li><li>'8'</li><li>'9'</li><li>'10'</li><li>'11'</li><li>'12'</li></ol>\n"
      ],
      "text/latex": [
       "\\begin{enumerate*}\n",
       "\\item '1'\n",
       "\\item '2'\n",
       "\\item '3'\n",
       "\\item '4'\n",
       "\\item '5'\n",
       "\\item '6'\n",
       "\\item '7'\n",
       "\\item '8'\n",
       "\\item '9'\n",
       "\\item '10'\n",
       "\\item '11'\n",
       "\\item '12'\n",
       "\\end{enumerate*}\n"
      ],
      "text/markdown": [
       "1. '1'\n",
       "2. '2'\n",
       "3. '3'\n",
       "4. '4'\n",
       "5. '5'\n",
       "6. '6'\n",
       "7. '7'\n",
       "8. '8'\n",
       "9. '9'\n",
       "10. '10'\n",
       "11. '11'\n",
       "12. '12'\n",
       "\n",
       "\n"
      ],
      "text/plain": [
       " [1] \"1\"  \"2\"  \"3\"  \"4\"  \"5\"  \"6\"  \"7\"  \"8\"  \"9\"  \"10\" \"11\" \"12\""
      ]
     },
     "metadata": {},
     "output_type": "display_data"
    },
    {
     "data": {
      "text/plain": [
       "\n",
       "Call:\n",
       "glm(formula = dados_ano4$member_casual ~ dados_ano4$rideable_type + \n",
       "    dados_ano4$ride_length + dados_ano4$week_day + dados_ano4$month, \n",
       "    family = binomial(logit), data = dados_ano4)\n",
       "\n",
       "Deviance Residuals: \n",
       "    Min       1Q   Median       3Q      Max  \n",
       "-2.3280  -1.1964   0.7006   0.9315   2.0761  \n",
       "\n",
       "Coefficients:\n",
       "                                        Estimate Std. Error  z value Pr(>|z|)\n",
       "(Intercept)                            2.322e+00  1.080e-02  214.914  < 2e-16\n",
       "dados_ano4$rideable_typedocked_bike   -1.695e+01  6.058e+00   -2.799 0.005128\n",
       "dados_ano4$rideable_typeelectric_bike -5.596e-01  2.214e-03 -252.743  < 2e-16\n",
       "dados_ano4$ride_length                -5.761e-04  1.723e-06 -334.364  < 2e-16\n",
       "dados_ano4$week_dayMonday              1.922e-01  4.102e-03   46.847  < 2e-16\n",
       "dados_ano4$week_daySaturday           -3.909e-01  3.831e-03 -102.042  < 2e-16\n",
       "dados_ano4$week_daySunday             -3.058e-01  4.002e-03  -76.394  < 2e-16\n",
       "dados_ano4$week_dayThursday            1.920e-01  3.996e-03   48.058  < 2e-16\n",
       "dados_ano4$week_dayTuesday             3.228e-01  4.113e-03   78.494  < 2e-16\n",
       "dados_ano4$week_dayWednesday           2.937e-01  4.072e-03   72.117  < 2e-16\n",
       "dados_ano4$month2                     -5.313e-02  1.415e-02   -3.754 0.000174\n",
       "dados_ano4$month3                     -7.178e-01  1.158e-02  -62.009  < 2e-16\n",
       "dados_ano4$month4                     -7.818e-01  1.130e-02  -69.213  < 2e-16\n",
       "dados_ano4$month5                     -1.203e+00  1.083e-02 -111.063  < 2e-16\n",
       "dados_ano4$month6                     -1.393e+00  1.073e-02 -129.883  < 2e-16\n",
       "dados_ano4$month7                     -1.373e+00  1.071e-02 -128.202  < 2e-16\n",
       "dados_ano4$month8                     -1.296e+00  1.074e-02 -120.705  < 2e-16\n",
       "dados_ano4$month9                     -1.172e+00  1.079e-02 -108.675  < 2e-16\n",
       "dados_ano4$month10                    -9.278e-01  1.093e-02  -84.847  < 2e-16\n",
       "dados_ano4$month11                    -6.017e-01  1.143e-02  -52.640  < 2e-16\n",
       "dados_ano4$month12                    -5.117e-01  1.194e-02  -42.870  < 2e-16\n",
       "                                         \n",
       "(Intercept)                           ***\n",
       "dados_ano4$rideable_typedocked_bike   ** \n",
       "dados_ano4$rideable_typeelectric_bike ***\n",
       "dados_ano4$ride_length                ***\n",
       "dados_ano4$week_dayMonday             ***\n",
       "dados_ano4$week_daySaturday           ***\n",
       "dados_ano4$week_daySunday             ***\n",
       "dados_ano4$week_dayThursday           ***\n",
       "dados_ano4$week_dayTuesday            ***\n",
       "dados_ano4$week_dayWednesday          ***\n",
       "dados_ano4$month2                     ***\n",
       "dados_ano4$month3                     ***\n",
       "dados_ano4$month4                     ***\n",
       "dados_ano4$month5                     ***\n",
       "dados_ano4$month6                     ***\n",
       "dados_ano4$month7                     ***\n",
       "dados_ano4$month8                     ***\n",
       "dados_ano4$month9                     ***\n",
       "dados_ano4$month10                    ***\n",
       "dados_ano4$month11                    ***\n",
       "dados_ano4$month12                    ***\n",
       "---\n",
       "Signif. codes:  0 ‘***’ 0.001 ‘**’ 0.01 ‘*’ 0.05 ‘.’ 0.1 ‘ ’ 1\n",
       "\n",
       "(Dispersion parameter for binomial family taken to be 1)\n",
       "\n",
       "    Null deviance: 5667012  on 4256556  degrees of freedom\n",
       "Residual deviance: 5029428  on 4256536  degrees of freedom\n",
       "AIC: 5029470\n",
       "\n",
       "Number of Fisher Scoring iterations: 15\n"
      ]
     },
     "metadata": {},
     "output_type": "display_data"
    },
    {
     "data": {
      "text/plain": [
       "\n",
       "Call:\n",
       "glm(formula = dados_ano4$member_casual ~ dados_ano4$rideable_type + \n",
       "    dados_ano4$week_day + dados_ano4$month, family = binomial(logit), \n",
       "    data = dados_ano4)\n",
       "\n",
       "Deviance Residuals: \n",
       "    Min       1Q   Median       3Q      Max  \n",
       "-2.1757  -1.2364   0.7409   0.9347   1.4065  \n",
       "\n",
       "Coefficients:\n",
       "                                        Estimate Std. Error  z value Pr(>|z|)\n",
       "(Intercept)                             1.926337   0.010648  180.916  < 2e-16\n",
       "dados_ano4$rideable_typedocked_bike   -17.236987   6.226226   -2.768  0.00563\n",
       "dados_ano4$rideable_typeelectric_bike  -0.486755   0.002167 -224.589  < 2e-16\n",
       "dados_ano4$week_dayMonday               0.189362   0.004041   46.863  < 2e-16\n",
       "dados_ano4$week_daySaturday            -0.449792   0.003768 -119.386  < 2e-16\n",
       "dados_ano4$week_daySunday              -0.359384   0.003936  -91.318  < 2e-16\n",
       "dados_ano4$week_dayThursday             0.205061   0.003940   52.049  < 2e-16\n",
       "dados_ano4$week_dayTuesday              0.341925   0.004056   84.310  < 2e-16\n",
       "dados_ano4$week_dayWednesday            0.310632   0.004016   77.341  < 2e-16\n",
       "dados_ano4$month2                      -0.069456   0.014049   -4.944 7.66e-07\n",
       "dados_ano4$month3                      -0.799314   0.011478  -69.636  < 2e-16\n",
       "dados_ano4$month4                      -0.855687   0.011203  -76.381  < 2e-16\n",
       "dados_ano4$month5                      -1.327404   0.010744 -123.552  < 2e-16\n",
       "dados_ano4$month6                      -1.513805   0.010646 -142.190  < 2e-16\n",
       "dados_ano4$month7                      -1.491278   0.010631 -140.271  < 2e-16\n",
       "dados_ano4$month8                      -1.402356   0.010656 -131.599  < 2e-16\n",
       "dados_ano4$month9                      -1.257364   0.010709 -117.417  < 2e-16\n",
       "dados_ano4$month10                     -0.978851   0.010853  -90.188  < 2e-16\n",
       "dados_ano4$month11                     -0.642980   0.011343  -56.683  < 2e-16\n",
       "dados_ano4$month12                     -0.544753   0.011848  -45.978  < 2e-16\n",
       "                                         \n",
       "(Intercept)                           ***\n",
       "dados_ano4$rideable_typedocked_bike   ** \n",
       "dados_ano4$rideable_typeelectric_bike ***\n",
       "dados_ano4$week_dayMonday             ***\n",
       "dados_ano4$week_daySaturday           ***\n",
       "dados_ano4$week_daySunday             ***\n",
       "dados_ano4$week_dayThursday           ***\n",
       "dados_ano4$week_dayTuesday            ***\n",
       "dados_ano4$week_dayWednesday          ***\n",
       "dados_ano4$month2                     ***\n",
       "dados_ano4$month3                     ***\n",
       "dados_ano4$month4                     ***\n",
       "dados_ano4$month5                     ***\n",
       "dados_ano4$month6                     ***\n",
       "dados_ano4$month7                     ***\n",
       "dados_ano4$month8                     ***\n",
       "dados_ano4$month9                     ***\n",
       "dados_ano4$month10                    ***\n",
       "dados_ano4$month11                    ***\n",
       "dados_ano4$month12                    ***\n",
       "---\n",
       "Signif. codes:  0 ‘***’ 0.001 ‘**’ 0.01 ‘*’ 0.05 ‘.’ 0.1 ‘ ’ 1\n",
       "\n",
       "(Dispersion parameter for binomial family taken to be 1)\n",
       "\n",
       "    Null deviance: 5667012  on 4256556  degrees of freedom\n",
       "Residual deviance: 5145261  on 4256537  degrees of freedom\n",
       "AIC: 5145301\n",
       "\n",
       "Number of Fisher Scoring iterations: 15\n"
      ]
     },
     "metadata": {},
     "output_type": "display_data"
    },
    {
     "data": {
      "text/plain": [
       "\n",
       "Call:\n",
       "glm(formula = dados_ano4$member_casual ~ dados_ano4$rideable_type + \n",
       "    dados_ano4$week_day, family = binomial(logit), data = dados_ano4)\n",
       "\n",
       "Deviance Residuals: \n",
       "    Min       1Q   Median       3Q      Max  \n",
       "-1.6569  -1.2958   0.7775   0.9446   1.2598  \n",
       "\n",
       "Coefficients:\n",
       "                                        Estimate Std. Error  z value Pr(>|z|)\n",
       "(Intercept)                             0.716025   0.002883  248.319  < 2e-16\n",
       "dados_ano4$rideable_typedocked_bike   -17.243261   6.309028   -2.733  0.00627\n",
       "dados_ano4$rideable_typeelectric_bike  -0.465825   0.002125 -219.215  < 2e-16\n",
       "dados_ano4$week_dayMonday               0.231610   0.003975   58.262  < 2e-16\n",
       "dados_ano4$week_daySaturday            -0.441922   0.003710 -119.112  < 2e-16\n",
       "dados_ano4$week_daySunday              -0.357122   0.003869  -92.297  < 2e-16\n",
       "dados_ano4$week_dayThursday             0.213367   0.003888   54.885  < 2e-16\n",
       "dados_ano4$week_dayTuesday              0.364425   0.003996   91.207  < 2e-16\n",
       "dados_ano4$week_dayWednesday            0.325504   0.003960   82.203  < 2e-16\n",
       "                                         \n",
       "(Intercept)                           ***\n",
       "dados_ano4$rideable_typedocked_bike   ** \n",
       "dados_ano4$rideable_typeelectric_bike ***\n",
       "dados_ano4$week_dayMonday             ***\n",
       "dados_ano4$week_daySaturday           ***\n",
       "dados_ano4$week_daySunday             ***\n",
       "dados_ano4$week_dayThursday           ***\n",
       "dados_ano4$week_dayTuesday            ***\n",
       "dados_ano4$week_dayWednesday          ***\n",
       "---\n",
       "Signif. codes:  0 ‘***’ 0.001 ‘**’ 0.01 ‘*’ 0.05 ‘.’ 0.1 ‘ ’ 1\n",
       "\n",
       "(Dispersion parameter for binomial family taken to be 1)\n",
       "\n",
       "    Null deviance: 5667012  on 4256556  degrees of freedom\n",
       "Residual deviance: 5258129  on 4256548  degrees of freedom\n",
       "AIC: 5258147\n",
       "\n",
       "Number of Fisher Scoring iterations: 15\n"
      ]
     },
     "metadata": {},
     "output_type": "display_data"
    },
    {
     "data": {
      "text/plain": [
       "\n",
       "Call:\n",
       "glm(formula = dados_ano4$member_casual ~ dados_ano4$rideable_type, \n",
       "    family = binomial(logit), data = dados_ano4)\n",
       "\n",
       "Deviance Residuals: \n",
       "    Min       1Q   Median       3Q      Max  \n",
       "-1.5033  -1.3051   0.8833   0.8833   1.0549  \n",
       "\n",
       "Coefficients:\n",
       "                                        Estimate Std. Error  z value Pr(>|z|)\n",
       "(Intercept)                             0.739796   0.001339  552.583   <2e-16\n",
       "dados_ano4$rideable_typedocked_bike   -17.305865   6.428777   -2.692   0.0071\n",
       "dados_ano4$rideable_typeelectric_bike  -0.444583   0.002098 -211.883   <2e-16\n",
       "                                         \n",
       "(Intercept)                           ***\n",
       "dados_ano4$rideable_typedocked_bike   ** \n",
       "dados_ano4$rideable_typeelectric_bike ***\n",
       "---\n",
       "Signif. codes:  0 ‘***’ 0.001 ‘**’ 0.01 ‘*’ 0.05 ‘.’ 0.1 ‘ ’ 1\n",
       "\n",
       "(Dispersion parameter for binomial family taken to be 1)\n",
       "\n",
       "    Null deviance: 5667012  on 4256556  degrees of freedom\n",
       "Residual deviance: 5347396  on 4256554  degrees of freedom\n",
       "AIC: 5347402\n",
       "\n",
       "Number of Fisher Scoring iterations: 15\n"
      ]
     },
     "metadata": {},
     "output_type": "display_data"
    }
   ],
   "source": [
    "dados_ano4$rideable_type <- as.factor(dados_ano4$rideable_type)\n",
    "dados_ano4$member_casual <- as.factor(dados_ano4$member_casual)\n",
    "dados_ano4$week_day <- as.factor(dados_ano4$week_day)\n",
    "dados_ano4$month <- as.factor(dados_ano4$month)\n",
    "\n",
    "str(dados_ano4)\n",
    "\n",
    "levels(dados_ano4$member_casual) # Categoria de referência é Casual\n",
    "levels(dados_ano4$rideable_type) # Categoria de referência é Classic_bike\n",
    "levels(dados_ano4$week_day) # Categoria de referência é Segunda-feira\n",
    "levels(dados_ano4$month) # Categoria de referência é Janeiro (1)\n",
    "\n",
    "Regressao1 <- glm(dados_ano4$member_casual ~ dados_ano4$rideable_type + dados_ano4$ride_length + dados_ano4$week_day + dados_ano4$month, family = binomial(logit) , data=dados_ano4)\n",
    "summary(Regressao1) # AIC 5.029.470\n",
    "\n",
    "Regressao2 <- glm(dados_ano4$member_casual ~ dados_ano4$rideable_type + dados_ano4$week_day + dados_ano4$month, family = binomial(logit) , data=dados_ano4)\n",
    "summary(Regressao2) # AIC 5.145.301\n",
    "\n",
    "Regressao3 <- glm(dados_ano4$member_casual ~ dados_ano4$rideable_type + dados_ano4$week_day, family = binomial(logit) , data=dados_ano4)\n",
    "summary(Regressao3) # AIC 5.258.147\n",
    "\n",
    "Regressao4 <- glm(dados_ano4$member_casual ~ dados_ano4$rideable_type, family = binomial(logit) , data=dados_ano4)\n",
    "summary(Regressao4) # AIC 5.347.402"
   ]
  },
  {
   "cell_type": "markdown",
   "id": "ce24a5c8",
   "metadata": {
    "papermill": {
     "duration": 0.016838,
     "end_time": "2022-12-15T01:46:05.500977",
     "exception": false,
     "start_time": "2022-12-15T01:46:05.484139",
     "status": "completed"
    },
    "tags": []
   },
   "source": [
    "Pelo AIC de cada modelo, o que tem o melhor resultado é o \"Regressão1\" e por ele identificamos que todas as variáveis selecionadas tem grande significância para explicar quem é casual. O mesmo acontece quando utilizamos \"member\" como a variável referência. Ou seja, o modelo não ajuda a entender quais variáveis explicam melhor um tipo específico de ciclista.\n",
    "\n",
    "## Respondendo as perguntas do problema\n",
    "\n",
    "1- Como os membros anuais e os ciclistas casuais usam as bicicletas ciclísticas de maneira diferente?\n",
    "\n",
    "Observamos que os ciclistas casuais utilizam menos do que os membros tanto as bicicletas clássicas quanto as elétricas.\n",
    "\n",
    "2- Por que os ciclistas casuais comprariam associações anuais ciclísticas?\n",
    "\n",
    "Uma informação curiosa que podemos retirar da análise é que mesmo os ciclistas casuais tendo um número de passeios inferior do que os membros, os ciclistas casuais utilizam em média mais tempo do que os membros. Porém, podemos observar uma maior utilização por parte dos casuais em finais de semana, coisa que não acontece com os membros. Talvez esse comportamento se deve ao fato de que quem é membro, já deve ter uma rotina diária e um tempo cronometrado para essa atividade, por isso que o número de passeios durante a semana não varia tanto. Já os casuais, ainda não devem ter atribuido isso na sua rotina diária mas gosta da atividade a ponto de nos dias de lazer (finais de semana), utilizar mais as bicicletas. Logo, acredito que os ciclistas casuais comprariam associações anuais caso a empresa crie uma propaganda com foco nos finais de semana onde há um número maior desse público, incentivando e mostrando ser mais vantajoso a pessoa passar a ter essa rotina diária e mostrar que seria mais econômico ela participar do plano anual.\n",
    "\n",
    "3- Como a Cyclistic pode usar a mídia digital para influenciar ciclistas casuais a se tornarem membros?\n",
    "\n",
    "O marketing digital está em alta hoje em dia por mostrar o quão eficaz é em relação às propagandas tradicionais. Isso se deve à capacidade de direcionamento para o público alvo muito mais assertivamente do que as propagandas tradicionais. Com isso, poderiam ser filtradas as pessoas que buscam por equipamentos de esporte, principalmente para bicicleta, pessoas com uma faixa etária onde há maior probabilidade de realizar atividades físicas entre outras estratégias para potencializar o retorno do investimento feito na propaganda."
   ]
  }
 ],
 "metadata": {
  "kernelspec": {
   "display_name": "R",
   "language": "R",
   "name": "ir"
  },
  "language_info": {
   "codemirror_mode": "r",
   "file_extension": ".r",
   "mimetype": "text/x-r-source",
   "name": "R",
   "pygments_lexer": "r",
   "version": "4.0.5"
  },
  "papermill": {
   "default_parameters": {},
   "duration": 262.009452,
   "end_time": "2022-12-15T01:46:06.140114",
   "environment_variables": {},
   "exception": null,
   "input_path": "__notebook__.ipynb",
   "output_path": "__notebook__.ipynb",
   "parameters": {},
   "start_time": "2022-12-15T01:41:44.130662",
   "version": "2.4.0"
  }
 },
 "nbformat": 4,
 "nbformat_minor": 5
}
